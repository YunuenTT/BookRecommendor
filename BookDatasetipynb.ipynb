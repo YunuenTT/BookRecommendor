{
  "nbformat": 4,
  "nbformat_minor": 0,
  "metadata": {
    "colab": {
      "name": "BookDatasetipynb",
      "provenance": [],
      "collapsed_sections": []
    },
    "kernelspec": {
      "display_name": "Python 3",
      "name": "python3"
    },
    "widgets": {
      "application/vnd.jupyter.widget-state+json": {
        "f437af41611a44ffa9597b9aaba96128": {
          "model_module": "@jupyter-widgets/controls",
          "model_name": "DropdownModel",
          "state": {
            "_options_labels": [
              "Item-based (correlation)",
              "Item-based (cosine)",
              "User-based (correlation)",
              "User-based (cosine)"
            ],
            "_view_name": "DropdownView",
            "style": "IPY_MODEL_4862bf4731fd403db1da13ee40c9abd9",
            "_dom_classes": [],
            "description": "Select approach",
            "_model_name": "DropdownModel",
            "index": 2,
            "_view_module": "@jupyter-widgets/controls",
            "_model_module_version": "1.5.0",
            "_view_count": null,
            "disabled": false,
            "_view_module_version": "1.5.0",
            "description_tooltip": null,
            "_model_module": "@jupyter-widgets/controls",
            "layout": "IPY_MODEL_e7d60c48a4514e2b9815976649a22ce7"
          }
        },
        "4862bf4731fd403db1da13ee40c9abd9": {
          "model_module": "@jupyter-widgets/controls",
          "model_name": "DescriptionStyleModel",
          "state": {
            "_view_name": "StyleView",
            "_model_name": "DescriptionStyleModel",
            "description_width": "",
            "_view_module": "@jupyter-widgets/base",
            "_model_module_version": "1.5.0",
            "_view_count": null,
            "_view_module_version": "1.2.0",
            "_model_module": "@jupyter-widgets/controls"
          }
        },
        "e7d60c48a4514e2b9815976649a22ce7": {
          "model_module": "@jupyter-widgets/base",
          "model_name": "LayoutModel",
          "state": {
            "_view_name": "LayoutView",
            "grid_template_rows": null,
            "right": null,
            "justify_content": null,
            "_view_module": "@jupyter-widgets/base",
            "overflow": null,
            "_model_module_version": "1.2.0",
            "_view_count": null,
            "flex_flow": null,
            "width": null,
            "min_width": null,
            "border": null,
            "align_items": null,
            "bottom": null,
            "_model_module": "@jupyter-widgets/base",
            "top": null,
            "grid_column": null,
            "overflow_y": null,
            "overflow_x": null,
            "grid_auto_flow": null,
            "grid_area": null,
            "grid_template_columns": null,
            "flex": null,
            "_model_name": "LayoutModel",
            "justify_items": null,
            "grid_row": null,
            "max_height": null,
            "align_content": null,
            "visibility": null,
            "align_self": null,
            "height": null,
            "min_height": null,
            "padding": null,
            "grid_auto_rows": null,
            "grid_gap": null,
            "max_width": null,
            "order": null,
            "_view_module_version": "1.2.0",
            "grid_template_areas": null,
            "object_position": null,
            "object_fit": null,
            "grid_auto_columns": null,
            "margin": null,
            "display": null,
            "left": null
          }
        },
        "c42d5f95a52c4332b638142cbc36e959": {
          "model_module": "@jupyter-widgets/controls",
          "model_name": "DropdownModel",
          "state": {
            "_options_labels": [
              "Item-based (correlation)",
              "Item-based (cosine)",
              "User-based (correlation)",
              "User-based (cosine)"
            ],
            "_view_name": "DropdownView",
            "style": "IPY_MODEL_747c9b7563c54e6d8eaafbadcdcee98c",
            "_dom_classes": [],
            "description": "Select approach",
            "_model_name": "DropdownModel",
            "index": 3,
            "_view_module": "@jupyter-widgets/controls",
            "_model_module_version": "1.5.0",
            "_view_count": null,
            "disabled": false,
            "_view_module_version": "1.5.0",
            "description_tooltip": null,
            "_model_module": "@jupyter-widgets/controls",
            "layout": "IPY_MODEL_55751e8fdc974e14898203ad179a06f9"
          }
        },
        "747c9b7563c54e6d8eaafbadcdcee98c": {
          "model_module": "@jupyter-widgets/controls",
          "model_name": "DescriptionStyleModel",
          "state": {
            "_view_name": "StyleView",
            "_model_name": "DescriptionStyleModel",
            "description_width": "",
            "_view_module": "@jupyter-widgets/base",
            "_model_module_version": "1.5.0",
            "_view_count": null,
            "_view_module_version": "1.2.0",
            "_model_module": "@jupyter-widgets/controls"
          }
        },
        "55751e8fdc974e14898203ad179a06f9": {
          "model_module": "@jupyter-widgets/base",
          "model_name": "LayoutModel",
          "state": {
            "_view_name": "LayoutView",
            "grid_template_rows": null,
            "right": null,
            "justify_content": null,
            "_view_module": "@jupyter-widgets/base",
            "overflow": null,
            "_model_module_version": "1.2.0",
            "_view_count": null,
            "flex_flow": null,
            "width": null,
            "min_width": null,
            "border": null,
            "align_items": null,
            "bottom": null,
            "_model_module": "@jupyter-widgets/base",
            "top": null,
            "grid_column": null,
            "overflow_y": null,
            "overflow_x": null,
            "grid_auto_flow": null,
            "grid_area": null,
            "grid_template_columns": null,
            "flex": null,
            "_model_name": "LayoutModel",
            "justify_items": null,
            "grid_row": null,
            "max_height": null,
            "align_content": null,
            "visibility": null,
            "align_self": null,
            "height": null,
            "min_height": null,
            "padding": null,
            "grid_auto_rows": null,
            "grid_gap": null,
            "max_width": null,
            "order": null,
            "_view_module_version": "1.2.0",
            "grid_template_areas": null,
            "object_position": null,
            "object_fit": null,
            "grid_auto_columns": null,
            "margin": null,
            "display": null,
            "left": null
          }
        },
        "36f5c328a186450e972206b65416d479": {
          "model_module": "@jupyter-widgets/controls",
          "model_name": "DropdownModel",
          "state": {
            "_options_labels": [
              "Item-based (correlation)",
              "Item-based (cosine)",
              "User-based (correlation)",
              "User-based (cosine)"
            ],
            "_view_name": "DropdownView",
            "style": "IPY_MODEL_f8fd4cc464c243e7af02ec75209c77c5",
            "_dom_classes": [],
            "description": "Select approach",
            "_model_name": "DropdownModel",
            "index": 0,
            "_view_module": "@jupyter-widgets/controls",
            "_model_module_version": "1.5.0",
            "_view_count": null,
            "disabled": false,
            "_view_module_version": "1.5.0",
            "description_tooltip": null,
            "_model_module": "@jupyter-widgets/controls",
            "layout": "IPY_MODEL_03007d7369534686b821aa94c102e100"
          }
        },
        "f8fd4cc464c243e7af02ec75209c77c5": {
          "model_module": "@jupyter-widgets/controls",
          "model_name": "DescriptionStyleModel",
          "state": {
            "_view_name": "StyleView",
            "_model_name": "DescriptionStyleModel",
            "description_width": "",
            "_view_module": "@jupyter-widgets/base",
            "_model_module_version": "1.5.0",
            "_view_count": null,
            "_view_module_version": "1.2.0",
            "_model_module": "@jupyter-widgets/controls"
          }
        },
        "03007d7369534686b821aa94c102e100": {
          "model_module": "@jupyter-widgets/base",
          "model_name": "LayoutModel",
          "state": {
            "_view_name": "LayoutView",
            "grid_template_rows": null,
            "right": null,
            "justify_content": null,
            "_view_module": "@jupyter-widgets/base",
            "overflow": null,
            "_model_module_version": "1.2.0",
            "_view_count": null,
            "flex_flow": null,
            "width": null,
            "min_width": null,
            "border": null,
            "align_items": null,
            "bottom": null,
            "_model_module": "@jupyter-widgets/base",
            "top": null,
            "grid_column": null,
            "overflow_y": null,
            "overflow_x": null,
            "grid_auto_flow": null,
            "grid_area": null,
            "grid_template_columns": null,
            "flex": null,
            "_model_name": "LayoutModel",
            "justify_items": null,
            "grid_row": null,
            "max_height": null,
            "align_content": null,
            "visibility": null,
            "align_self": null,
            "height": null,
            "min_height": null,
            "padding": null,
            "grid_auto_rows": null,
            "grid_gap": null,
            "max_width": null,
            "order": null,
            "_view_module_version": "1.2.0",
            "grid_template_areas": null,
            "object_position": null,
            "object_fit": null,
            "grid_auto_columns": null,
            "margin": null,
            "display": null,
            "left": null
          }
        },
        "997d7a74ad56412e8230abc87afe0c03": {
          "model_module": "@jupyter-widgets/controls",
          "model_name": "DropdownModel",
          "state": {
            "_options_labels": [
              "Item-based (correlation)",
              "Item-based (cosine)",
              "User-based (correlation)",
              "User-based (cosine)"
            ],
            "_view_name": "DropdownView",
            "style": "IPY_MODEL_e8b372ac3fde4b629dbcc91efbb1328a",
            "_dom_classes": [],
            "description": "Select approach",
            "_model_name": "DropdownModel",
            "index": 1,
            "_view_module": "@jupyter-widgets/controls",
            "_model_module_version": "1.5.0",
            "_view_count": null,
            "disabled": false,
            "_view_module_version": "1.5.0",
            "description_tooltip": null,
            "_model_module": "@jupyter-widgets/controls",
            "layout": "IPY_MODEL_88e7a7a8c4694b6296b6742567841b95"
          }
        },
        "e8b372ac3fde4b629dbcc91efbb1328a": {
          "model_module": "@jupyter-widgets/controls",
          "model_name": "DescriptionStyleModel",
          "state": {
            "_view_name": "StyleView",
            "_model_name": "DescriptionStyleModel",
            "description_width": "",
            "_view_module": "@jupyter-widgets/base",
            "_model_module_version": "1.5.0",
            "_view_count": null,
            "_view_module_version": "1.2.0",
            "_model_module": "@jupyter-widgets/controls"
          }
        },
        "88e7a7a8c4694b6296b6742567841b95": {
          "model_module": "@jupyter-widgets/base",
          "model_name": "LayoutModel",
          "state": {
            "_view_name": "LayoutView",
            "grid_template_rows": null,
            "right": null,
            "justify_content": null,
            "_view_module": "@jupyter-widgets/base",
            "overflow": null,
            "_model_module_version": "1.2.0",
            "_view_count": null,
            "flex_flow": null,
            "width": null,
            "min_width": null,
            "border": null,
            "align_items": null,
            "bottom": null,
            "_model_module": "@jupyter-widgets/base",
            "top": null,
            "grid_column": null,
            "overflow_y": null,
            "overflow_x": null,
            "grid_auto_flow": null,
            "grid_area": null,
            "grid_template_columns": null,
            "flex": null,
            "_model_name": "LayoutModel",
            "justify_items": null,
            "grid_row": null,
            "max_height": null,
            "align_content": null,
            "visibility": null,
            "align_self": null,
            "height": null,
            "min_height": null,
            "padding": null,
            "grid_auto_rows": null,
            "grid_gap": null,
            "max_width": null,
            "order": null,
            "_view_module_version": "1.2.0",
            "grid_template_areas": null,
            "object_position": null,
            "object_fit": null,
            "grid_auto_columns": null,
            "margin": null,
            "display": null,
            "left": null
          }
        }
      }
    }
  },
  "cells": [
    {
      "cell_type": "code",
      "metadata": {
        "id": "UJHQ-bBBEFgz"
      },
      "source": [
        "!pip install -U -q PyDrive\n",
        "from pydrive.auth import GoogleAuth\n",
        "from pydrive.drive import GoogleDrive\n",
        "from google.colab import auth\n",
        "from oauth2client.client import GoogleCredentials"
      ],
      "execution_count": 104,
      "outputs": []
    },
    {
      "cell_type": "code",
      "metadata": {
        "id": "ZVtVAEluJkjf"
      },
      "source": [
        "auth.authenticate_user()\n",
        "gauth = GoogleAuth()\n",
        "gauth.credentials = GoogleCredentials.get_application_default()\n",
        "drive = GoogleDrive(gauth)"
      ],
      "execution_count": 105,
      "outputs": []
    },
    {
      "cell_type": "code",
      "metadata": {
        "id": "bvoe523NHE4h"
      },
      "source": [
        "bookDownloaded = drive.CreateFile({'id':'11W4x4lQttS2MSaeXIiht-YS9mFTQhf66'})\n",
        "userDownloaded = drive.CreateFile({'id':'1Z1w-Y08MKhc1y5sLcGIYsLuENP0uPnrI'})\n",
        "ratingDownloaded = drive.CreateFile({'id':'1VDFJsIGh14scPpnujbuUTZu5IB9itqlm'})\n"
      ],
      "execution_count": 106,
      "outputs": []
    },
    {
      "cell_type": "code",
      "metadata": {
        "id": "mZ7gxeKeJxge"
      },
      "source": [
        "bookDownloaded.GetContentFile('books.csv')\n",
        "userDownloaded.GetContentFile('users.csv')\n",
        "ratingDownloaded.GetContentFile('ratings.csv')"
      ],
      "execution_count": 107,
      "outputs": []
    },
    {
      "cell_type": "code",
      "metadata": {
        "id": "y3wiWQgxrQGa"
      },
      "source": [
        "import numpy as np\n",
        "import pandas as pd\n",
        "import matplotlib.pyplot as plt\n",
        "import seaborn as sns\n",
        "import ipywidgets as widgets\n",
        "from IPython.display import display, clear_output\n",
        "\n",
        "import sklearn.metrics as metrics\n",
        "from sklearn.neighbors import NearestNeighbors\n",
        "from scipy.spatial.distance import correlation\n",
        "from sklearn.metrics.pairwise import pairwise_distances\n",
        "from contextlib import contextmanager\n",
        "\n",
        "import warnings\n",
        "warnings.filterwarnings('ignore')\n",
        "import os, sys\n",
        "import re\n",
        "\n",
        "pd.set_option('display.max_colwidth', -1)\n"
      ],
      "execution_count": 108,
      "outputs": []
    },
    {
      "cell_type": "code",
      "metadata": {
        "colab": {
          "base_uri": "https://localhost:8080/",
          "height": 551
        },
        "id": "Ec3elapLrdm6",
        "outputId": "63fd46ae-210e-4a7e-f37a-b053afe1cd32"
      },
      "source": [
        "books = pd.read_csv('books.csv')\n",
        "books.head()"
      ],
      "execution_count": 109,
      "outputs": [
        {
          "output_type": "execute_result",
          "data": {
            "text/html": [
              "<div>\n",
              "<style scoped>\n",
              "    .dataframe tbody tr th:only-of-type {\n",
              "        vertical-align: middle;\n",
              "    }\n",
              "\n",
              "    .dataframe tbody tr th {\n",
              "        vertical-align: top;\n",
              "    }\n",
              "\n",
              "    .dataframe thead th {\n",
              "        text-align: right;\n",
              "    }\n",
              "</style>\n",
              "<table border=\"1\" class=\"dataframe\">\n",
              "  <thead>\n",
              "    <tr style=\"text-align: right;\">\n",
              "      <th></th>\n",
              "      <th>ISBN</th>\n",
              "      <th>Book-Title</th>\n",
              "      <th>Book-Author</th>\n",
              "      <th>Year-Of-Publication</th>\n",
              "      <th>Publisher</th>\n",
              "      <th>Image-URL-S</th>\n",
              "      <th>Image-URL-M</th>\n",
              "      <th>Image-URL-L</th>\n",
              "    </tr>\n",
              "  </thead>\n",
              "  <tbody>\n",
              "    <tr>\n",
              "      <th>0</th>\n",
              "      <td>0195153448</td>\n",
              "      <td>Classical Mythology</td>\n",
              "      <td>Mark P. O. Morford</td>\n",
              "      <td>2002</td>\n",
              "      <td>Oxford University Press</td>\n",
              "      <td>http://images.amazon.com/images/P/0195153448.01.THUMBZZZ.jpg</td>\n",
              "      <td>http://images.amazon.com/images/P/0195153448.01.MZZZZZZZ.jpg</td>\n",
              "      <td>http://images.amazon.com/images/P/0195153448.01.LZZZZZZZ.jpg</td>\n",
              "    </tr>\n",
              "    <tr>\n",
              "      <th>1</th>\n",
              "      <td>0002005018</td>\n",
              "      <td>Clara Callan</td>\n",
              "      <td>Richard Bruce Wright</td>\n",
              "      <td>2001</td>\n",
              "      <td>HarperFlamingo Canada</td>\n",
              "      <td>http://images.amazon.com/images/P/0002005018.01.THUMBZZZ.jpg</td>\n",
              "      <td>http://images.amazon.com/images/P/0002005018.01.MZZZZZZZ.jpg</td>\n",
              "      <td>http://images.amazon.com/images/P/0002005018.01.LZZZZZZZ.jpg</td>\n",
              "    </tr>\n",
              "    <tr>\n",
              "      <th>2</th>\n",
              "      <td>0060973129</td>\n",
              "      <td>Decision in Normandy</td>\n",
              "      <td>Carlo D'Este</td>\n",
              "      <td>1991</td>\n",
              "      <td>HarperPerennial</td>\n",
              "      <td>http://images.amazon.com/images/P/0060973129.01.THUMBZZZ.jpg</td>\n",
              "      <td>http://images.amazon.com/images/P/0060973129.01.MZZZZZZZ.jpg</td>\n",
              "      <td>http://images.amazon.com/images/P/0060973129.01.LZZZZZZZ.jpg</td>\n",
              "    </tr>\n",
              "    <tr>\n",
              "      <th>3</th>\n",
              "      <td>0374157065</td>\n",
              "      <td>Flu: The Story of the Great Influenza Pandemic of 1918 and the Search for the Virus That Caused It</td>\n",
              "      <td>Gina Bari Kolata</td>\n",
              "      <td>1999</td>\n",
              "      <td>Farrar Straus Giroux</td>\n",
              "      <td>http://images.amazon.com/images/P/0374157065.01.THUMBZZZ.jpg</td>\n",
              "      <td>http://images.amazon.com/images/P/0374157065.01.MZZZZZZZ.jpg</td>\n",
              "      <td>http://images.amazon.com/images/P/0374157065.01.LZZZZZZZ.jpg</td>\n",
              "    </tr>\n",
              "    <tr>\n",
              "      <th>4</th>\n",
              "      <td>0393045218</td>\n",
              "      <td>The Mummies of Urumchi</td>\n",
              "      <td>E. J. W. Barber</td>\n",
              "      <td>1999</td>\n",
              "      <td>W. W. Norton &amp;amp; Company</td>\n",
              "      <td>http://images.amazon.com/images/P/0393045218.01.THUMBZZZ.jpg</td>\n",
              "      <td>http://images.amazon.com/images/P/0393045218.01.MZZZZZZZ.jpg</td>\n",
              "      <td>http://images.amazon.com/images/P/0393045218.01.LZZZZZZZ.jpg</td>\n",
              "    </tr>\n",
              "  </tbody>\n",
              "</table>\n",
              "</div>"
            ],
            "text/plain": [
              "         ISBN  ...                                                   Image-URL-L\n",
              "0  0195153448  ...  http://images.amazon.com/images/P/0195153448.01.LZZZZZZZ.jpg\n",
              "1  0002005018  ...  http://images.amazon.com/images/P/0002005018.01.LZZZZZZZ.jpg\n",
              "2  0060973129  ...  http://images.amazon.com/images/P/0060973129.01.LZZZZZZZ.jpg\n",
              "3  0374157065  ...  http://images.amazon.com/images/P/0374157065.01.LZZZZZZZ.jpg\n",
              "4  0393045218  ...  http://images.amazon.com/images/P/0393045218.01.LZZZZZZZ.jpg\n",
              "\n",
              "[5 rows x 8 columns]"
            ]
          },
          "metadata": {
            "tags": []
          },
          "execution_count": 109
        }
      ]
    },
    {
      "cell_type": "code",
      "metadata": {
        "colab": {
          "base_uri": "https://localhost:8080/",
          "height": 195
        },
        "id": "B23K9ddnKzXB",
        "outputId": "957f9690-781f-4070-9568-7e301f936d2a"
      },
      "source": [
        "users = pd.read_csv('users.csv')\n",
        "users.head()"
      ],
      "execution_count": 110,
      "outputs": [
        {
          "output_type": "execute_result",
          "data": {
            "text/html": [
              "<div>\n",
              "<style scoped>\n",
              "    .dataframe tbody tr th:only-of-type {\n",
              "        vertical-align: middle;\n",
              "    }\n",
              "\n",
              "    .dataframe tbody tr th {\n",
              "        vertical-align: top;\n",
              "    }\n",
              "\n",
              "    .dataframe thead th {\n",
              "        text-align: right;\n",
              "    }\n",
              "</style>\n",
              "<table border=\"1\" class=\"dataframe\">\n",
              "  <thead>\n",
              "    <tr style=\"text-align: right;\">\n",
              "      <th></th>\n",
              "      <th>User-ID</th>\n",
              "      <th>Location</th>\n",
              "      <th>Age</th>\n",
              "    </tr>\n",
              "  </thead>\n",
              "  <tbody>\n",
              "    <tr>\n",
              "      <th>0</th>\n",
              "      <td>1</td>\n",
              "      <td>nyc, new york, usa</td>\n",
              "      <td>NaN</td>\n",
              "    </tr>\n",
              "    <tr>\n",
              "      <th>1</th>\n",
              "      <td>2</td>\n",
              "      <td>stockton, california, usa</td>\n",
              "      <td>18.0</td>\n",
              "    </tr>\n",
              "    <tr>\n",
              "      <th>2</th>\n",
              "      <td>3</td>\n",
              "      <td>moscow, yukon territory, russia</td>\n",
              "      <td>NaN</td>\n",
              "    </tr>\n",
              "    <tr>\n",
              "      <th>3</th>\n",
              "      <td>4</td>\n",
              "      <td>porto, v.n.gaia, portugal</td>\n",
              "      <td>17.0</td>\n",
              "    </tr>\n",
              "    <tr>\n",
              "      <th>4</th>\n",
              "      <td>5</td>\n",
              "      <td>farnborough, hants, united kingdom</td>\n",
              "      <td>NaN</td>\n",
              "    </tr>\n",
              "  </tbody>\n",
              "</table>\n",
              "</div>"
            ],
            "text/plain": [
              "   User-ID                            Location   Age\n",
              "0  1        nyc, new york, usa                 NaN  \n",
              "1  2        stockton, california, usa           18.0\n",
              "2  3        moscow, yukon territory, russia    NaN  \n",
              "3  4        porto, v.n.gaia, portugal           17.0\n",
              "4  5        farnborough, hants, united kingdom NaN  "
            ]
          },
          "metadata": {
            "tags": []
          },
          "execution_count": 110
        }
      ]
    },
    {
      "cell_type": "code",
      "metadata": {
        "colab": {
          "base_uri": "https://localhost:8080/",
          "height": 195
        },
        "id": "hBr7TN28K8EA",
        "outputId": "7f90c929-b4a1-405b-cfcf-2ddc9f327607"
      },
      "source": [
        "ratings = pd.read_csv('ratings.csv')\n",
        "ratings.head()"
      ],
      "execution_count": 111,
      "outputs": [
        {
          "output_type": "execute_result",
          "data": {
            "text/html": [
              "<div>\n",
              "<style scoped>\n",
              "    .dataframe tbody tr th:only-of-type {\n",
              "        vertical-align: middle;\n",
              "    }\n",
              "\n",
              "    .dataframe tbody tr th {\n",
              "        vertical-align: top;\n",
              "    }\n",
              "\n",
              "    .dataframe thead th {\n",
              "        text-align: right;\n",
              "    }\n",
              "</style>\n",
              "<table border=\"1\" class=\"dataframe\">\n",
              "  <thead>\n",
              "    <tr style=\"text-align: right;\">\n",
              "      <th></th>\n",
              "      <th>User-ID</th>\n",
              "      <th>ISBN</th>\n",
              "      <th>Book-Rating</th>\n",
              "    </tr>\n",
              "  </thead>\n",
              "  <tbody>\n",
              "    <tr>\n",
              "      <th>0</th>\n",
              "      <td>276725</td>\n",
              "      <td>034545104X</td>\n",
              "      <td>0</td>\n",
              "    </tr>\n",
              "    <tr>\n",
              "      <th>1</th>\n",
              "      <td>276726</td>\n",
              "      <td>0155061224</td>\n",
              "      <td>5</td>\n",
              "    </tr>\n",
              "    <tr>\n",
              "      <th>2</th>\n",
              "      <td>276727</td>\n",
              "      <td>0446520802</td>\n",
              "      <td>0</td>\n",
              "    </tr>\n",
              "    <tr>\n",
              "      <th>3</th>\n",
              "      <td>276729</td>\n",
              "      <td>052165615X</td>\n",
              "      <td>3</td>\n",
              "    </tr>\n",
              "    <tr>\n",
              "      <th>4</th>\n",
              "      <td>276729</td>\n",
              "      <td>0521795028</td>\n",
              "      <td>6</td>\n",
              "    </tr>\n",
              "  </tbody>\n",
              "</table>\n",
              "</div>"
            ],
            "text/plain": [
              "   User-ID        ISBN  Book-Rating\n",
              "0  276725   034545104X  0          \n",
              "1  276726   0155061224  5          \n",
              "2  276727   0446520802  0          \n",
              "3  276729   052165615X  3          \n",
              "4  276729   0521795028  6          "
            ]
          },
          "metadata": {
            "tags": []
          },
          "execution_count": 111
        }
      ]
    },
    {
      "cell_type": "code",
      "metadata": {
        "id": "MYKb8mjILEtQ"
      },
      "source": [
        "books.columns = ['ISBN', 'bookTitle', 'bookAuthor', 'yearOfPublication', 'publisher', 'imageUrlS', 'imageUrlM', 'imageUrlL']"
      ],
      "execution_count": 112,
      "outputs": []
    },
    {
      "cell_type": "code",
      "metadata": {
        "colab": {
          "base_uri": "https://localhost:8080/"
        },
        "id": "E0yD0E9MLIWc",
        "outputId": "40fabfcc-7bc4-490f-cfb9-86c4a14804a5"
      },
      "source": [
        "print(books.shape)\n",
        "print(users.shape)\n",
        "print(ratings.shape)"
      ],
      "execution_count": 113,
      "outputs": [
        {
          "output_type": "stream",
          "text": [
            "(271360, 8)\n",
            "(278858, 3)\n",
            "(1149780, 3)\n"
          ],
          "name": "stdout"
        }
      ]
    },
    {
      "cell_type": "code",
      "metadata": {
        "id": "WT9x6uFHLK_N"
      },
      "source": [
        "#dropping last three columns containing image URLs which will not be required for analysis\n",
        "books.drop(['imageUrlS', 'imageUrlM', 'imageUrlL'],axis=1,inplace=True)\n"
      ],
      "execution_count": 114,
      "outputs": []
    },
    {
      "cell_type": "code",
      "metadata": {
        "colab": {
          "base_uri": "https://localhost:8080/"
        },
        "id": "N8RLhHDpLWG_",
        "outputId": "87862920-4fe7-46f5-d809-dc3119cd5902"
      },
      "source": [
        "#checking data types of columns\n",
        "books.dtypes"
      ],
      "execution_count": 115,
      "outputs": [
        {
          "output_type": "execute_result",
          "data": {
            "text/plain": [
              "ISBN                 object\n",
              "bookTitle            object\n",
              "bookAuthor           object\n",
              "yearOfPublication    object\n",
              "publisher            object\n",
              "dtype: object"
            ]
          },
          "metadata": {
            "tags": []
          },
          "execution_count": 115
        }
      ]
    },
    {
      "cell_type": "code",
      "metadata": {
        "colab": {
          "base_uri": "https://localhost:8080/"
        },
        "id": "6r87rXJ5qbcO",
        "outputId": "862a388a-fbbf-4f36-8c3f-88451acd15b4"
      },
      "source": [
        "books.ISBN.describe()"
      ],
      "execution_count": 116,
      "outputs": [
        {
          "output_type": "execute_result",
          "data": {
            "text/plain": [
              "count     271360    \n",
              "unique    271360    \n",
              "top       0399215166\n",
              "freq      1         \n",
              "Name: ISBN, dtype: object"
            ]
          },
          "metadata": {
            "tags": []
          },
          "execution_count": 116
        }
      ]
    },
    {
      "cell_type": "code",
      "metadata": {
        "colab": {
          "base_uri": "https://localhost:8080/"
        },
        "id": "Bivo_wdwLbht",
        "outputId": "22020206-05c4-491d-fd3d-e8953647019d"
      },
      "source": [
        "books.yearOfPublication.describe()"
      ],
      "execution_count": 117,
      "outputs": [
        {
          "output_type": "execute_result",
          "data": {
            "text/plain": [
              "count     271360\n",
              "unique    202   \n",
              "top       2002  \n",
              "freq      13903 \n",
              "Name: yearOfPublication, dtype: int64"
            ]
          },
          "metadata": {
            "tags": []
          },
          "execution_count": 117
        }
      ]
    },
    {
      "cell_type": "code",
      "metadata": {
        "colab": {
          "base_uri": "https://localhost:8080/",
          "height": 140
        },
        "id": "XNsxMzm6Lgr0",
        "outputId": "55d4bae1-2872-4745-dd1c-debf7c070973"
      },
      "source": [
        "books.loc[books.yearOfPublication == 'DK Publishing Inc',:]"
      ],
      "execution_count": 118,
      "outputs": [
        {
          "output_type": "execute_result",
          "data": {
            "text/html": [
              "<div>\n",
              "<style scoped>\n",
              "    .dataframe tbody tr th:only-of-type {\n",
              "        vertical-align: middle;\n",
              "    }\n",
              "\n",
              "    .dataframe tbody tr th {\n",
              "        vertical-align: top;\n",
              "    }\n",
              "\n",
              "    .dataframe thead th {\n",
              "        text-align: right;\n",
              "    }\n",
              "</style>\n",
              "<table border=\"1\" class=\"dataframe\">\n",
              "  <thead>\n",
              "    <tr style=\"text-align: right;\">\n",
              "      <th></th>\n",
              "      <th>ISBN</th>\n",
              "      <th>bookTitle</th>\n",
              "      <th>bookAuthor</th>\n",
              "      <th>yearOfPublication</th>\n",
              "      <th>publisher</th>\n",
              "    </tr>\n",
              "  </thead>\n",
              "  <tbody>\n",
              "    <tr>\n",
              "      <th>209538</th>\n",
              "      <td>078946697X</td>\n",
              "      <td>DK Readers: Creating the X-Men, How It All Began (Level 4: Proficient Readers)\\\";Michael Teitelbaum\"</td>\n",
              "      <td>2000</td>\n",
              "      <td>DK Publishing Inc</td>\n",
              "      <td>http://images.amazon.com/images/P/078946697X.01.THUMBZZZ.jpg</td>\n",
              "    </tr>\n",
              "    <tr>\n",
              "      <th>221678</th>\n",
              "      <td>0789466953</td>\n",
              "      <td>DK Readers: Creating the X-Men, How Comic Books Come to Life (Level 4: Proficient Readers)\\\";James Buckley\"</td>\n",
              "      <td>2000</td>\n",
              "      <td>DK Publishing Inc</td>\n",
              "      <td>http://images.amazon.com/images/P/0789466953.01.THUMBZZZ.jpg</td>\n",
              "    </tr>\n",
              "  </tbody>\n",
              "</table>\n",
              "</div>"
            ],
            "text/plain": [
              "              ISBN  ...                                                     publisher\n",
              "209538  078946697X  ...  http://images.amazon.com/images/P/078946697X.01.THUMBZZZ.jpg\n",
              "221678  0789466953  ...  http://images.amazon.com/images/P/0789466953.01.THUMBZZZ.jpg\n",
              "\n",
              "[2 rows x 5 columns]"
            ]
          },
          "metadata": {
            "tags": []
          },
          "execution_count": 118
        }
      ]
    },
    {
      "cell_type": "code",
      "metadata": {
        "colab": {
          "base_uri": "https://localhost:8080/",
          "height": 106
        },
        "id": "4DyjVZMaLltj",
        "outputId": "c96d81f8-3a8c-43d8-c834-cea5f1b019b1"
      },
      "source": [
        "#From above, it is seen that bookAuthor is incorrectly loaded with bookTitle, hence making required corrections\n",
        "#ISBN '0789466953'\n",
        "books.loc[books.ISBN == '0789466953','yearOfPublication'] = 2000\n",
        "books.loc[books.ISBN == '0789466953','bookAuthor'] = \"James Buckley\"\n",
        "books.loc[books.ISBN == '0789466953','publisher'] = \"DK Publishing Inc\"\n",
        "books.loc[books.ISBN == '0789466953','bookTitle'] = \"DK Readers: Creating the X-Men, How Comic Books Come to Life (Level 4: Proficient Readers)\"\n",
        "\n",
        "#ISBN '078946697X'\n",
        "books.loc[books.ISBN == '078946697X','yearOfPublication'] = 2000\n",
        "books.loc[books.ISBN == '078946697X','bookAuthor'] = \"Michael Teitelbaum\"\n",
        "books.loc[books.ISBN == '078946697X','publisher'] = \"DK Publishing Inc\"\n",
        "books.loc[books.ISBN == '078946697X','bookTitle'] = \"DK Readers: Creating the X-Men, How It All Began (Level 4: Proficient Readers)\"\n",
        "\n",
        "#rechecking\n",
        "books.loc[(books.ISBN == '0789466953') | (books.ISBN == '078946697X'),:]\n",
        "#corrections done"
      ],
      "execution_count": 119,
      "outputs": [
        {
          "output_type": "execute_result",
          "data": {
            "text/html": [
              "<div>\n",
              "<style scoped>\n",
              "    .dataframe tbody tr th:only-of-type {\n",
              "        vertical-align: middle;\n",
              "    }\n",
              "\n",
              "    .dataframe tbody tr th {\n",
              "        vertical-align: top;\n",
              "    }\n",
              "\n",
              "    .dataframe thead th {\n",
              "        text-align: right;\n",
              "    }\n",
              "</style>\n",
              "<table border=\"1\" class=\"dataframe\">\n",
              "  <thead>\n",
              "    <tr style=\"text-align: right;\">\n",
              "      <th></th>\n",
              "      <th>ISBN</th>\n",
              "      <th>bookTitle</th>\n",
              "      <th>bookAuthor</th>\n",
              "      <th>yearOfPublication</th>\n",
              "      <th>publisher</th>\n",
              "    </tr>\n",
              "  </thead>\n",
              "  <tbody>\n",
              "    <tr>\n",
              "      <th>209538</th>\n",
              "      <td>078946697X</td>\n",
              "      <td>DK Readers: Creating the X-Men, How It All Began (Level 4: Proficient Readers)</td>\n",
              "      <td>Michael Teitelbaum</td>\n",
              "      <td>2000</td>\n",
              "      <td>DK Publishing Inc</td>\n",
              "    </tr>\n",
              "    <tr>\n",
              "      <th>221678</th>\n",
              "      <td>0789466953</td>\n",
              "      <td>DK Readers: Creating the X-Men, How Comic Books Come to Life (Level 4: Proficient Readers)</td>\n",
              "      <td>James Buckley</td>\n",
              "      <td>2000</td>\n",
              "      <td>DK Publishing Inc</td>\n",
              "    </tr>\n",
              "  </tbody>\n",
              "</table>\n",
              "</div>"
            ],
            "text/plain": [
              "              ISBN  ...          publisher\n",
              "209538  078946697X  ...  DK Publishing Inc\n",
              "221678  0789466953  ...  DK Publishing Inc\n",
              "\n",
              "[2 rows x 5 columns]"
            ]
          },
          "metadata": {
            "tags": []
          },
          "execution_count": 119
        }
      ]
    },
    {
      "cell_type": "code",
      "metadata": {
        "id": "AcE7kXdN9sOx",
        "colab": {
          "base_uri": "https://localhost:8080/",
          "height": 77
        },
        "outputId": "f7f38592-6c8b-4553-a21b-cad2fdcab289"
      },
      "source": [
        "books.loc[(books.ISBN == '0091867770') | (books.ISBN == '078946697X'),:]"
      ],
      "execution_count": 120,
      "outputs": [
        {
          "output_type": "execute_result",
          "data": {
            "text/html": [
              "<div>\n",
              "<style scoped>\n",
              "    .dataframe tbody tr th:only-of-type {\n",
              "        vertical-align: middle;\n",
              "    }\n",
              "\n",
              "    .dataframe tbody tr th {\n",
              "        vertical-align: top;\n",
              "    }\n",
              "\n",
              "    .dataframe thead th {\n",
              "        text-align: right;\n",
              "    }\n",
              "</style>\n",
              "<table border=\"1\" class=\"dataframe\">\n",
              "  <thead>\n",
              "    <tr style=\"text-align: right;\">\n",
              "      <th></th>\n",
              "      <th>ISBN</th>\n",
              "      <th>bookTitle</th>\n",
              "      <th>bookAuthor</th>\n",
              "      <th>yearOfPublication</th>\n",
              "      <th>publisher</th>\n",
              "    </tr>\n",
              "  </thead>\n",
              "  <tbody>\n",
              "    <tr>\n",
              "      <th>209538</th>\n",
              "      <td>078946697X</td>\n",
              "      <td>DK Readers: Creating the X-Men, How It All Began (Level 4: Proficient Readers)</td>\n",
              "      <td>Michael Teitelbaum</td>\n",
              "      <td>2000</td>\n",
              "      <td>DK Publishing Inc</td>\n",
              "    </tr>\n",
              "  </tbody>\n",
              "</table>\n",
              "</div>"
            ],
            "text/plain": [
              "              ISBN  ...          publisher\n",
              "209538  078946697X  ...  DK Publishing Inc\n",
              "\n",
              "[1 rows x 5 columns]"
            ]
          },
          "metadata": {
            "tags": []
          },
          "execution_count": 120
        }
      ]
    },
    {
      "cell_type": "code",
      "metadata": {
        "colab": {
          "base_uri": "https://localhost:8080/",
          "height": 77
        },
        "id": "bdQoyuFFLpO5",
        "outputId": "5522e26b-41c0-467c-a839-9503147eb069"
      },
      "source": [
        "#investigating the rows having 'Gallimard' as yearOfPublication\n",
        "books.loc[books.yearOfPublication == 'Gallimard',:]"
      ],
      "execution_count": 121,
      "outputs": [
        {
          "output_type": "execute_result",
          "data": {
            "text/html": [
              "<div>\n",
              "<style scoped>\n",
              "    .dataframe tbody tr th:only-of-type {\n",
              "        vertical-align: middle;\n",
              "    }\n",
              "\n",
              "    .dataframe tbody tr th {\n",
              "        vertical-align: top;\n",
              "    }\n",
              "\n",
              "    .dataframe thead th {\n",
              "        text-align: right;\n",
              "    }\n",
              "</style>\n",
              "<table border=\"1\" class=\"dataframe\">\n",
              "  <thead>\n",
              "    <tr style=\"text-align: right;\">\n",
              "      <th></th>\n",
              "      <th>ISBN</th>\n",
              "      <th>bookTitle</th>\n",
              "      <th>bookAuthor</th>\n",
              "      <th>yearOfPublication</th>\n",
              "      <th>publisher</th>\n",
              "    </tr>\n",
              "  </thead>\n",
              "  <tbody>\n",
              "    <tr>\n",
              "      <th>220731</th>\n",
              "      <td>2070426769</td>\n",
              "      <td>Peuple du ciel, suivi de 'Les Bergers\\\";Jean-Marie Gustave Le ClÃ?Â©zio\"</td>\n",
              "      <td>2003</td>\n",
              "      <td>Gallimard</td>\n",
              "      <td>http://images.amazon.com/images/P/2070426769.01.THUMBZZZ.jpg</td>\n",
              "    </tr>\n",
              "  </tbody>\n",
              "</table>\n",
              "</div>"
            ],
            "text/plain": [
              "              ISBN  ...                                                     publisher\n",
              "220731  2070426769  ...  http://images.amazon.com/images/P/2070426769.01.THUMBZZZ.jpg\n",
              "\n",
              "[1 rows x 5 columns]"
            ]
          },
          "metadata": {
            "tags": []
          },
          "execution_count": 121
        }
      ]
    },
    {
      "cell_type": "code",
      "metadata": {
        "colab": {
          "base_uri": "https://localhost:8080/",
          "height": 77
        },
        "id": "2M4vk_IPLscL",
        "outputId": "6dad4dcf-f925-4f05-9e3e-3667318d1c26"
      },
      "source": [
        "#making required corrections as above, keeping other fields intact\n",
        "books.loc[books.ISBN == '2070426769','yearOfPublication'] = 2003\n",
        "books.loc[books.ISBN == '2070426769','bookAuthor'] = \"Jean-Marie Gustave Le ClÃ?Â©zio\"\n",
        "books.loc[books.ISBN == '2070426769','publisher'] = \"Gallimard\"\n",
        "books.loc[books.ISBN == '2070426769','bookTitle'] = \"Peuple du ciel, suivi de 'Les Bergers\"\n",
        "\n",
        "\n",
        "books.loc[books.ISBN == '2070426769',:]"
      ],
      "execution_count": 122,
      "outputs": [
        {
          "output_type": "execute_result",
          "data": {
            "text/html": [
              "<div>\n",
              "<style scoped>\n",
              "    .dataframe tbody tr th:only-of-type {\n",
              "        vertical-align: middle;\n",
              "    }\n",
              "\n",
              "    .dataframe tbody tr th {\n",
              "        vertical-align: top;\n",
              "    }\n",
              "\n",
              "    .dataframe thead th {\n",
              "        text-align: right;\n",
              "    }\n",
              "</style>\n",
              "<table border=\"1\" class=\"dataframe\">\n",
              "  <thead>\n",
              "    <tr style=\"text-align: right;\">\n",
              "      <th></th>\n",
              "      <th>ISBN</th>\n",
              "      <th>bookTitle</th>\n",
              "      <th>bookAuthor</th>\n",
              "      <th>yearOfPublication</th>\n",
              "      <th>publisher</th>\n",
              "    </tr>\n",
              "  </thead>\n",
              "  <tbody>\n",
              "    <tr>\n",
              "      <th>220731</th>\n",
              "      <td>2070426769</td>\n",
              "      <td>Peuple du ciel, suivi de 'Les Bergers</td>\n",
              "      <td>Jean-Marie Gustave Le ClÃ?Â©zio</td>\n",
              "      <td>2003</td>\n",
              "      <td>Gallimard</td>\n",
              "    </tr>\n",
              "  </tbody>\n",
              "</table>\n",
              "</div>"
            ],
            "text/plain": [
              "              ISBN  ...  publisher\n",
              "220731  2070426769  ...  Gallimard\n",
              "\n",
              "[1 rows x 5 columns]"
            ]
          },
          "metadata": {
            "tags": []
          },
          "execution_count": 122
        }
      ]
    },
    {
      "cell_type": "code",
      "metadata": {
        "colab": {
          "base_uri": "https://localhost:8080/"
        },
        "id": "Tzjk19DVLwd8",
        "outputId": "7c0775a5-1cb7-4597-85b4-b6b99523fd99"
      },
      "source": [
        "books.yearOfPublication=pd.to_numeric(books.yearOfPublication, errors='coerce')\n",
        "\n",
        "print(sorted(books['yearOfPublication'].unique()))\n",
        "#Now it can be seen that yearOfPublication has all values as integers"
      ],
      "execution_count": 123,
      "outputs": [
        {
          "output_type": "stream",
          "text": [
            "[0, 1376, 1378, 1806, 1897, 1900, 1901, 1902, 1904, 1906, 1908, 1909, 1910, 1911, 1914, 1917, 1919, 1920, 1921, 1922, 1923, 1924, 1925, 1926, 1927, 1928, 1929, 1930, 1931, 1932, 1933, 1934, 1935, 1936, 1937, 1938, 1939, 1940, 1941, 1942, 1943, 1944, 1945, 1946, 1947, 1948, 1949, 1950, 1951, 1952, 1953, 1954, 1955, 1956, 1957, 1958, 1959, 1960, 1961, 1962, 1963, 1964, 1965, 1966, 1967, 1968, 1969, 1970, 1971, 1972, 1973, 1974, 1975, 1976, 1977, 1978, 1979, 1980, 1981, 1982, 1983, 1984, 1985, 1986, 1987, 1988, 1989, 1990, 1991, 1992, 1993, 1994, 1995, 1996, 1997, 1998, 1999, 2000, 2001, 2002, 2003, 2004, 2005, 2006, 2008, 2010, 2011, 2012, 2020, 2021, 2024, 2026, 2030, 2037, 2038, 2050]\n"
          ],
          "name": "stdout"
        }
      ]
    },
    {
      "cell_type": "code",
      "metadata": {
        "id": "8s0dRRAjLz-A"
      },
      "source": [
        "#However, the value 0 is invalid and as this dataset was published in 2004, we have assumed the the years after 2006 to be \n",
        "#invalid keeping some margin in case dataset was updated thereafer\n",
        "#setting invalid years as NaN\n",
        "books.loc[(books.yearOfPublication > 2006) | (books.yearOfPublication == 0),'yearOfPublication'] = np.NAN\n",
        "\n",
        "#replacing NaNs with mean value of yearOfPublication\n",
        "books.yearOfPublication.fillna(round(books.yearOfPublication.mean()), inplace=True)"
      ],
      "execution_count": 124,
      "outputs": []
    },
    {
      "cell_type": "code",
      "metadata": {
        "id": "KQWLEsWurAI1"
      },
      "source": [
        "#replacing NaNs with mean value of yearOfPublication\n",
        "#books.ISBN.fillna(round(books.ISBN.mean()), inplace=True)"
      ],
      "execution_count": 125,
      "outputs": []
    },
    {
      "cell_type": "code",
      "metadata": {
        "colab": {
          "base_uri": "https://localhost:8080/"
        },
        "id": "LEY7KTukL3Mb",
        "outputId": "72a5fa57-2c2d-4999-8fc1-fda4c185d786"
      },
      "source": [
        "#rechecking\n",
        "books.yearOfPublication.isnull().sum()\n",
        "#No NaNs"
      ],
      "execution_count": 126,
      "outputs": [
        {
          "output_type": "execute_result",
          "data": {
            "text/plain": [
              "0"
            ]
          },
          "metadata": {
            "tags": []
          },
          "execution_count": 126
        }
      ]
    },
    {
      "cell_type": "code",
      "metadata": {
        "colab": {
          "base_uri": "https://localhost:8080/"
        },
        "id": "gQOUa8kzq6ra",
        "outputId": "02b5f255-24cf-4c50-cfd6-84ad756b4b8d"
      },
      "source": [
        "books.ISBN.isnull().sum()"
      ],
      "execution_count": 127,
      "outputs": [
        {
          "output_type": "execute_result",
          "data": {
            "text/plain": [
              "0"
            ]
          },
          "metadata": {
            "tags": []
          },
          "execution_count": 127
        }
      ]
    },
    {
      "cell_type": "code",
      "metadata": {
        "id": "3B-no603L6Ic"
      },
      "source": [
        "#resetting the dtype as int32\n",
        "books.yearOfPublication = books.yearOfPublication.astype(np.int32)"
      ],
      "execution_count": 128,
      "outputs": []
    },
    {
      "cell_type": "code",
      "metadata": {
        "id": "COMLnzMarKia"
      },
      "source": [
        "#resetting the dtype as int32\n",
        "books.yearOfPublication = books.yearOfPublication.astype(np.int32)"
      ],
      "execution_count": 129,
      "outputs": []
    },
    {
      "cell_type": "code",
      "metadata": {
        "colab": {
          "base_uri": "https://localhost:8080/",
          "height": 106
        },
        "id": "sUx_kddSL9v7",
        "outputId": "06d6d399-d77a-4da5-a3d9-1a72b3b4bf5f"
      },
      "source": [
        "#exploring 'publisher' column\n",
        "books.loc[books.publisher.isnull(),:]\n",
        "#two NaNs"
      ],
      "execution_count": 130,
      "outputs": [
        {
          "output_type": "execute_result",
          "data": {
            "text/html": [
              "<div>\n",
              "<style scoped>\n",
              "    .dataframe tbody tr th:only-of-type {\n",
              "        vertical-align: middle;\n",
              "    }\n",
              "\n",
              "    .dataframe tbody tr th {\n",
              "        vertical-align: top;\n",
              "    }\n",
              "\n",
              "    .dataframe thead th {\n",
              "        text-align: right;\n",
              "    }\n",
              "</style>\n",
              "<table border=\"1\" class=\"dataframe\">\n",
              "  <thead>\n",
              "    <tr style=\"text-align: right;\">\n",
              "      <th></th>\n",
              "      <th>ISBN</th>\n",
              "      <th>bookTitle</th>\n",
              "      <th>bookAuthor</th>\n",
              "      <th>yearOfPublication</th>\n",
              "      <th>publisher</th>\n",
              "    </tr>\n",
              "  </thead>\n",
              "  <tbody>\n",
              "    <tr>\n",
              "      <th>128890</th>\n",
              "      <td>193169656X</td>\n",
              "      <td>Tyrant Moon</td>\n",
              "      <td>Elaine Corvidae</td>\n",
              "      <td>2002</td>\n",
              "      <td>NaN</td>\n",
              "    </tr>\n",
              "    <tr>\n",
              "      <th>129037</th>\n",
              "      <td>1931696993</td>\n",
              "      <td>Finders Keepers</td>\n",
              "      <td>Linnea Sinclair</td>\n",
              "      <td>2001</td>\n",
              "      <td>NaN</td>\n",
              "    </tr>\n",
              "  </tbody>\n",
              "</table>\n",
              "</div>"
            ],
            "text/plain": [
              "              ISBN        bookTitle  ... yearOfPublication  publisher\n",
              "128890  193169656X  Tyrant Moon      ...  2002              NaN      \n",
              "129037  1931696993  Finders Keepers  ...  2001              NaN      \n",
              "\n",
              "[2 rows x 5 columns]"
            ]
          },
          "metadata": {
            "tags": []
          },
          "execution_count": 130
        }
      ]
    },
    {
      "cell_type": "code",
      "metadata": {
        "colab": {
          "base_uri": "https://localhost:8080/",
          "height": 77
        },
        "id": "PiaFHP6WMAxW",
        "outputId": "8d0ecb7a-fd4d-443d-9dec-bc7f27c98d50"
      },
      "source": [
        "#investigating rows having NaNs\n",
        "#Checking with rows having bookTitle as Tyrant Moon to see if we can get any clues\n",
        "books.loc[(books.bookTitle == 'Tyrant Moon'),:]\n",
        "#no clues"
      ],
      "execution_count": 131,
      "outputs": [
        {
          "output_type": "execute_result",
          "data": {
            "text/html": [
              "<div>\n",
              "<style scoped>\n",
              "    .dataframe tbody tr th:only-of-type {\n",
              "        vertical-align: middle;\n",
              "    }\n",
              "\n",
              "    .dataframe tbody tr th {\n",
              "        vertical-align: top;\n",
              "    }\n",
              "\n",
              "    .dataframe thead th {\n",
              "        text-align: right;\n",
              "    }\n",
              "</style>\n",
              "<table border=\"1\" class=\"dataframe\">\n",
              "  <thead>\n",
              "    <tr style=\"text-align: right;\">\n",
              "      <th></th>\n",
              "      <th>ISBN</th>\n",
              "      <th>bookTitle</th>\n",
              "      <th>bookAuthor</th>\n",
              "      <th>yearOfPublication</th>\n",
              "      <th>publisher</th>\n",
              "    </tr>\n",
              "  </thead>\n",
              "  <tbody>\n",
              "    <tr>\n",
              "      <th>128890</th>\n",
              "      <td>193169656X</td>\n",
              "      <td>Tyrant Moon</td>\n",
              "      <td>Elaine Corvidae</td>\n",
              "      <td>2002</td>\n",
              "      <td>NaN</td>\n",
              "    </tr>\n",
              "  </tbody>\n",
              "</table>\n",
              "</div>"
            ],
            "text/plain": [
              "              ISBN    bookTitle       bookAuthor  yearOfPublication publisher\n",
              "128890  193169656X  Tyrant Moon  Elaine Corvidae  2002               NaN     "
            ]
          },
          "metadata": {
            "tags": []
          },
          "execution_count": 131
        }
      ]
    },
    {
      "cell_type": "code",
      "metadata": {
        "colab": {
          "base_uri": "https://localhost:8080/",
          "height": 314
        },
        "id": "qLj6BgYFMDdP",
        "outputId": "95169de1-f733-43f5-f185-5ba51938501f"
      },
      "source": [
        "#Checking with rows having bookTitle as Finder Keepers to see if we can get any clues\n",
        "books.loc[(books.bookTitle == 'Finders Keepers'),:]"
      ],
      "execution_count": 132,
      "outputs": [
        {
          "output_type": "execute_result",
          "data": {
            "text/html": [
              "<div>\n",
              "<style scoped>\n",
              "    .dataframe tbody tr th:only-of-type {\n",
              "        vertical-align: middle;\n",
              "    }\n",
              "\n",
              "    .dataframe tbody tr th {\n",
              "        vertical-align: top;\n",
              "    }\n",
              "\n",
              "    .dataframe thead th {\n",
              "        text-align: right;\n",
              "    }\n",
              "</style>\n",
              "<table border=\"1\" class=\"dataframe\">\n",
              "  <thead>\n",
              "    <tr style=\"text-align: right;\">\n",
              "      <th></th>\n",
              "      <th>ISBN</th>\n",
              "      <th>bookTitle</th>\n",
              "      <th>bookAuthor</th>\n",
              "      <th>yearOfPublication</th>\n",
              "      <th>publisher</th>\n",
              "    </tr>\n",
              "  </thead>\n",
              "  <tbody>\n",
              "    <tr>\n",
              "      <th>10799</th>\n",
              "      <td>082177364X</td>\n",
              "      <td>Finders Keepers</td>\n",
              "      <td>Fern Michaels</td>\n",
              "      <td>2002</td>\n",
              "      <td>Zebra Books</td>\n",
              "    </tr>\n",
              "    <tr>\n",
              "      <th>42019</th>\n",
              "      <td>0070465037</td>\n",
              "      <td>Finders Keepers</td>\n",
              "      <td>Barbara Nickolae</td>\n",
              "      <td>1989</td>\n",
              "      <td>McGraw-Hill Companies</td>\n",
              "    </tr>\n",
              "    <tr>\n",
              "      <th>58264</th>\n",
              "      <td>0688118461</td>\n",
              "      <td>Finders Keepers</td>\n",
              "      <td>Emily Rodda</td>\n",
              "      <td>1993</td>\n",
              "      <td>Harpercollins Juvenile Books</td>\n",
              "    </tr>\n",
              "    <tr>\n",
              "      <th>66678</th>\n",
              "      <td>1575663236</td>\n",
              "      <td>Finders Keepers</td>\n",
              "      <td>Fern Michaels</td>\n",
              "      <td>1998</td>\n",
              "      <td>Kensington Publishing Corporation</td>\n",
              "    </tr>\n",
              "    <tr>\n",
              "      <th>129037</th>\n",
              "      <td>1931696993</td>\n",
              "      <td>Finders Keepers</td>\n",
              "      <td>Linnea Sinclair</td>\n",
              "      <td>2001</td>\n",
              "      <td>NaN</td>\n",
              "    </tr>\n",
              "    <tr>\n",
              "      <th>134309</th>\n",
              "      <td>0156309505</td>\n",
              "      <td>Finders Keepers</td>\n",
              "      <td>Will</td>\n",
              "      <td>1989</td>\n",
              "      <td>Voyager Books</td>\n",
              "    </tr>\n",
              "    <tr>\n",
              "      <th>173473</th>\n",
              "      <td>0973146907</td>\n",
              "      <td>Finders Keepers</td>\n",
              "      <td>Sean M. Costello</td>\n",
              "      <td>2002</td>\n",
              "      <td>Red Tower Publications</td>\n",
              "    </tr>\n",
              "    <tr>\n",
              "      <th>195885</th>\n",
              "      <td>0061083909</td>\n",
              "      <td>Finders Keepers</td>\n",
              "      <td>Sharon Sala</td>\n",
              "      <td>2003</td>\n",
              "      <td>HarperTorch</td>\n",
              "    </tr>\n",
              "    <tr>\n",
              "      <th>211874</th>\n",
              "      <td>0373261160</td>\n",
              "      <td>Finders Keepers</td>\n",
              "      <td>Elizabeth Travis</td>\n",
              "      <td>1993</td>\n",
              "      <td>Worldwide Library</td>\n",
              "    </tr>\n",
              "  </tbody>\n",
              "</table>\n",
              "</div>"
            ],
            "text/plain": [
              "              ISBN  ...                          publisher\n",
              "10799   082177364X  ...  Zebra Books                      \n",
              "42019   0070465037  ...  McGraw-Hill Companies            \n",
              "58264   0688118461  ...  Harpercollins Juvenile Books     \n",
              "66678   1575663236  ...  Kensington Publishing Corporation\n",
              "129037  1931696993  ...  NaN                              \n",
              "134309  0156309505  ...  Voyager Books                    \n",
              "173473  0973146907  ...  Red Tower Publications           \n",
              "195885  0061083909  ...  HarperTorch                      \n",
              "211874  0373261160  ...  Worldwide Library                \n",
              "\n",
              "[9 rows x 5 columns]"
            ]
          },
          "metadata": {
            "tags": []
          },
          "execution_count": 132
        }
      ]
    },
    {
      "cell_type": "code",
      "metadata": {
        "colab": {
          "base_uri": "https://localhost:8080/",
          "height": 136
        },
        "id": "cN_-hnqpMHnA",
        "outputId": "93f0fa7e-a6d7-4bef-dec8-9caffeb86073"
      },
      "source": [
        "#checking by bookAuthor to find patterns\n",
        "books.loc[(books.bookAuthor == 'Elaine Corvidae'),:]\n",
        "#all having different publisher...no clues here"
      ],
      "execution_count": 133,
      "outputs": [
        {
          "output_type": "execute_result",
          "data": {
            "text/html": [
              "<div>\n",
              "<style scoped>\n",
              "    .dataframe tbody tr th:only-of-type {\n",
              "        vertical-align: middle;\n",
              "    }\n",
              "\n",
              "    .dataframe tbody tr th {\n",
              "        vertical-align: top;\n",
              "    }\n",
              "\n",
              "    .dataframe thead th {\n",
              "        text-align: right;\n",
              "    }\n",
              "</style>\n",
              "<table border=\"1\" class=\"dataframe\">\n",
              "  <thead>\n",
              "    <tr style=\"text-align: right;\">\n",
              "      <th></th>\n",
              "      <th>ISBN</th>\n",
              "      <th>bookTitle</th>\n",
              "      <th>bookAuthor</th>\n",
              "      <th>yearOfPublication</th>\n",
              "      <th>publisher</th>\n",
              "    </tr>\n",
              "  </thead>\n",
              "  <tbody>\n",
              "    <tr>\n",
              "      <th>126762</th>\n",
              "      <td>1931696934</td>\n",
              "      <td>Winter's Orphans</td>\n",
              "      <td>Elaine Corvidae</td>\n",
              "      <td>2001</td>\n",
              "      <td>Novelbooks</td>\n",
              "    </tr>\n",
              "    <tr>\n",
              "      <th>128890</th>\n",
              "      <td>193169656X</td>\n",
              "      <td>Tyrant Moon</td>\n",
              "      <td>Elaine Corvidae</td>\n",
              "      <td>2002</td>\n",
              "      <td>NaN</td>\n",
              "    </tr>\n",
              "    <tr>\n",
              "      <th>129001</th>\n",
              "      <td>0759901880</td>\n",
              "      <td>Wolfkin</td>\n",
              "      <td>Elaine Corvidae</td>\n",
              "      <td>2001</td>\n",
              "      <td>Hard Shell Word Factory</td>\n",
              "    </tr>\n",
              "  </tbody>\n",
              "</table>\n",
              "</div>"
            ],
            "text/plain": [
              "              ISBN  ...                publisher\n",
              "126762  1931696934  ...  Novelbooks             \n",
              "128890  193169656X  ...  NaN                    \n",
              "129001  0759901880  ...  Hard Shell Word Factory\n",
              "\n",
              "[3 rows x 5 columns]"
            ]
          },
          "metadata": {
            "tags": []
          },
          "execution_count": 133
        }
      ]
    },
    {
      "cell_type": "code",
      "metadata": {
        "colab": {
          "base_uri": "https://localhost:8080/",
          "height": 77
        },
        "id": "xit62CzFMLVg",
        "outputId": "fde7ef5f-2e6f-4b83-ea6b-7eb9c34922fc"
      },
      "source": [
        "#checking by bookAuthor to find patterns\n",
        "books.loc[(books.bookAuthor == 'Linnea Sinclair'),:]"
      ],
      "execution_count": 134,
      "outputs": [
        {
          "output_type": "execute_result",
          "data": {
            "text/html": [
              "<div>\n",
              "<style scoped>\n",
              "    .dataframe tbody tr th:only-of-type {\n",
              "        vertical-align: middle;\n",
              "    }\n",
              "\n",
              "    .dataframe tbody tr th {\n",
              "        vertical-align: top;\n",
              "    }\n",
              "\n",
              "    .dataframe thead th {\n",
              "        text-align: right;\n",
              "    }\n",
              "</style>\n",
              "<table border=\"1\" class=\"dataframe\">\n",
              "  <thead>\n",
              "    <tr style=\"text-align: right;\">\n",
              "      <th></th>\n",
              "      <th>ISBN</th>\n",
              "      <th>bookTitle</th>\n",
              "      <th>bookAuthor</th>\n",
              "      <th>yearOfPublication</th>\n",
              "      <th>publisher</th>\n",
              "    </tr>\n",
              "  </thead>\n",
              "  <tbody>\n",
              "    <tr>\n",
              "      <th>129037</th>\n",
              "      <td>1931696993</td>\n",
              "      <td>Finders Keepers</td>\n",
              "      <td>Linnea Sinclair</td>\n",
              "      <td>2001</td>\n",
              "      <td>NaN</td>\n",
              "    </tr>\n",
              "  </tbody>\n",
              "</table>\n",
              "</div>"
            ],
            "text/plain": [
              "              ISBN        bookTitle  ... yearOfPublication  publisher\n",
              "129037  1931696993  Finders Keepers  ...  2001              NaN      \n",
              "\n",
              "[1 rows x 5 columns]"
            ]
          },
          "metadata": {
            "tags": []
          },
          "execution_count": 134
        }
      ]
    },
    {
      "cell_type": "code",
      "metadata": {
        "id": "7ybOYKA6MO_G"
      },
      "source": [
        "#since there is nothing in common to infer publisher for NaNs, replacing these with 'other\n",
        "books.loc[(books.ISBN == '193169656X'),'publisher'] = 'other'\n",
        "books.loc[(books.ISBN == '1931696993'),'publisher'] = 'other'"
      ],
      "execution_count": 135,
      "outputs": []
    },
    {
      "cell_type": "code",
      "metadata": {
        "colab": {
          "base_uri": "https://localhost:8080/"
        },
        "id": "8O-bxkwyMSQ8",
        "outputId": "f9bc11dd-5b2f-4389-a62d-ae774741df74"
      },
      "source": [
        "users.info()"
      ],
      "execution_count": 136,
      "outputs": [
        {
          "output_type": "stream",
          "text": [
            "<class 'pandas.core.frame.DataFrame'>\n",
            "RangeIndex: 278858 entries, 0 to 278857\n",
            "Data columns (total 3 columns):\n",
            " #   Column    Non-Null Count   Dtype  \n",
            "---  ------    --------------   -----  \n",
            " 0   User-ID   278858 non-null  int64  \n",
            " 1   Location  278858 non-null  object \n",
            " 2   Age       168096 non-null  float64\n",
            "dtypes: float64(1), int64(1), object(1)\n",
            "memory usage: 6.4+ MB\n"
          ],
          "name": "stdout"
        }
      ]
    },
    {
      "cell_type": "code",
      "metadata": {
        "colab": {
          "base_uri": "https://localhost:8080/",
          "height": 474
        },
        "id": "ecaP5cvwMVwg",
        "outputId": "c3c68119-c5e6-48ff-8123-d20d0fb8f7fd"
      },
      "source": [
        "plt.figure(figsize=(10, 7))\n",
        "users.Age.hist(bins=40, color='teal')\n",
        "#Age column has some invalid entries like nan, 0 and very high values like 100 and above"
      ],
      "execution_count": 137,
      "outputs": [
        {
          "output_type": "execute_result",
          "data": {
            "text/plain": [
              "<matplotlib.axes._subplots.AxesSubplot at 0x7fa6e2578390>"
            ]
          },
          "metadata": {
            "tags": []
          },
          "execution_count": 137
        },
        {
          "output_type": "display_data",
          "data": {
            "image/png": "[encoded data removed]",
            "text/plain": [
              "<Figure size 720x504 with 1 Axes>"
            ]
          },
          "metadata": {
            "tags": []
          }
        }
      ]
    },
    {
      "cell_type": "code",
      "metadata": {
        "id": "vr8x743EMaFp"
      },
      "source": [
        "#In my view values below 5 and above 90 do not make much sense for our book rating case...hence replacing these by NaNs\n",
        "users.loc[(users.Age > 90) | (users.Age < 5), 'Age'] = np.nan\n",
        "\n",
        "#replacing NaNs with mean\n",
        "users.Age = users.Age.fillna(users.Age.mean())\n",
        "\n",
        "#setting the data type as int\n",
        "users.Age = users.Age.astype(np.int32)"
      ],
      "execution_count": 138,
      "outputs": []
    },
    {
      "cell_type": "code",
      "metadata": {
        "colab": {
          "base_uri": "https://localhost:8080/",
          "height": 496
        },
        "id": "G2KWsoZlMct_",
        "outputId": "d7667b91-6096-47c9-95a6-a925f94b4f54"
      },
      "source": [
        "plt.figure(figsize=(10, 7))\n",
        "sns.boxenplot(users.Age, color='teal')"
      ],
      "execution_count": 139,
      "outputs": [
        {
          "output_type": "execute_result",
          "data": {
            "text/plain": [
              "<matplotlib.axes._subplots.AxesSubplot at 0x7fa6e008e0d0>"
            ]
          },
          "metadata": {
            "tags": []
          },
          "execution_count": 139
        },
        {
          "output_type": "display_data",
          "data": {
            "image/png": "[encoded data removed]",
            "text/plain": [
              "<Figure size 720x504 with 1 Axes>"
            ]
          },
          "metadata": {
            "tags": []
          }
        }
      ]
    },
    {
      "cell_type": "code",
      "metadata": {
        "colab": {
          "base_uri": "https://localhost:8080/"
        },
        "id": "Q0L33UEqMkgR",
        "outputId": "9e92110d-4690-4ca8-d0f8-a11bb6435915"
      },
      "source": [
        "ratings.shape"
      ],
      "execution_count": 140,
      "outputs": [
        {
          "output_type": "execute_result",
          "data": {
            "text/plain": [
              "(1149780, 3)"
            ]
          },
          "metadata": {
            "tags": []
          },
          "execution_count": 140
        }
      ]
    },
    {
      "cell_type": "code",
      "metadata": {
        "colab": {
          "base_uri": "https://localhost:8080/"
        },
        "id": "krsRy8xJMnC-",
        "outputId": "546216c4-4e94-494a-9ad9-57dff2afab61"
      },
      "source": [
        "#ratings dataset will have n_users*n_books entries if every user rated every item, this shows that the dataset is very sparse\n",
        "n_users = users.shape[0]\n",
        "n_books = books.shape[0]\n",
        "n_users * n_books"
      ],
      "execution_count": 141,
      "outputs": [
        {
          "output_type": "execute_result",
          "data": {
            "text/plain": [
              "75670906880"
            ]
          },
          "metadata": {
            "tags": []
          },
          "execution_count": 141
        }
      ]
    },
    {
      "cell_type": "code",
      "metadata": {
        "colab": {
          "base_uri": "https://localhost:8080/"
        },
        "id": "T1dGcD7QMphA",
        "outputId": "dff7ccd3-ded4-4746-caa0-4364c725a049"
      },
      "source": [
        "ratings['Book-Rating'].unique()"
      ],
      "execution_count": 142,
      "outputs": [
        {
          "output_type": "execute_result",
          "data": {
            "text/plain": [
              "array([ 0,  5,  3,  6,  8,  7, 10,  9,  4,  1,  2])"
            ]
          },
          "metadata": {
            "tags": []
          },
          "execution_count": 142
        }
      ]
    },
    {
      "cell_type": "code",
      "metadata": {
        "colab": {
          "base_uri": "https://localhost:8080/"
        },
        "id": "qApVOaffMsIV",
        "outputId": "d2d1cb24-b06d-473c-f596-95476d3c3e23"
      },
      "source": [
        "#ratings dataset should have books only which exist in our books dataset, unless new books are added to books dataset\n",
        "ratings_new = ratings[ratings.ISBN.isin(books.ISBN)]\n",
        "\n",
        "ratings.shape,ratings_new.shape\n",
        "#it can be seen that many rows having book ISBN not part of books dataset got dropped off"
      ],
      "execution_count": 143,
      "outputs": [
        {
          "output_type": "execute_result",
          "data": {
            "text/plain": [
              "((1149780, 3), (1031136, 3))"
            ]
          },
          "metadata": {
            "tags": []
          },
          "execution_count": 143
        }
      ]
    },
    {
      "cell_type": "code",
      "metadata": {
        "colab": {
          "base_uri": "https://localhost:8080/"
        },
        "id": "BjDyKYIZMvKD",
        "outputId": "901c3385-c02e-4135-bc65-30d558f917a6"
      },
      "source": [
        "#ratings dataset should have ratings from users which exist in users dataset, unless new users are added to users dataset\n",
        "ratings = ratings[ratings['User-ID'].isin(users['User-ID'])]\n",
        "\n",
        "print(ratings.shape)\n",
        "print(ratings_new.shape)\n",
        "#no new users added, hence we will go with above dataset ratings_new (1031136, 3)\n",
        "\n",
        "(n_users), (n_books)"
      ],
      "execution_count": 144,
      "outputs": [
        {
          "output_type": "stream",
          "text": [
            "(1149780, 3)\n",
            "(1031136, 3)\n"
          ],
          "name": "stdout"
        },
        {
          "output_type": "execute_result",
          "data": {
            "text/plain": [
              "(278858, 271360)"
            ]
          },
          "metadata": {
            "tags": []
          },
          "execution_count": 144
        }
      ]
    },
    {
      "cell_type": "code",
      "metadata": {
        "colab": {
          "base_uri": "https://localhost:8080/"
        },
        "id": "jZE3D4eZMylu",
        "outputId": "de9c82fd-b10a-43a4-e17b-0c44e36b9210"
      },
      "source": [
        "ratings['Book-Rating'].unique()"
      ],
      "execution_count": 145,
      "outputs": [
        {
          "output_type": "execute_result",
          "data": {
            "text/plain": [
              "array([ 0,  5,  3,  6,  8,  7, 10,  9,  4,  1,  2])"
            ]
          },
          "metadata": {
            "tags": []
          },
          "execution_count": 145
        }
      ]
    },
    {
      "cell_type": "code",
      "metadata": {
        "id": "ui0o3W8QM1gr"
      },
      "source": [
        "#Hence segragating implicit and explict ratings datasets\n",
        "ratings_explicit = ratings_new[ratings_new['Book-Rating'] != 0]\n",
        "ratings_implicit = ratings_new[ratings_new['Book-Rating'] == 0]"
      ],
      "execution_count": 146,
      "outputs": []
    },
    {
      "cell_type": "code",
      "metadata": {
        "colab": {
          "base_uri": "https://localhost:8080/",
          "height": 604
        },
        "id": "xtCyo-O4M4EU",
        "outputId": "12092db1-afb0-4762-9313-b66c2e6e3315"
      },
      "source": [
        "print(ratings_new.shape)\n",
        "print(ratings_explicit.shape)\n",
        "print(ratings_implicit.shape)\n",
        "plt.style.use('fivethirtyeight')\n",
        "plt.figure(figsize=(12, 8))\n",
        "sns.countplot(data=ratings_explicit , x='Book-Rating', palette='rocket_r')"
      ],
      "execution_count": 147,
      "outputs": [
        {
          "output_type": "stream",
          "text": [
            "(1031136, 3)\n",
            "(383842, 3)\n",
            "(647294, 3)\n"
          ],
          "name": "stdout"
        },
        {
          "output_type": "execute_result",
          "data": {
            "text/plain": [
              "<matplotlib.axes._subplots.AxesSubplot at 0x7fa6e0157d10>"
            ]
          },
          "metadata": {
            "tags": []
          },
          "execution_count": 147
        },
        {
          "output_type": "display_data",
          "data": {
            "image/png": "[encoded data removed]",
            "text/plain": [
              "<Figure size 864x576 with 1 Axes>"
            ]
          },
          "metadata": {
            "tags": []
          }
        }
      ]
    },
    {
      "cell_type": "code",
      "metadata": {
        "id": "Ok-jCkMzWTCq"
      },
      "source": [
        "ratings.to_csv('ratings_cleaned.csv')"
      ],
      "execution_count": 148,
      "outputs": []
    },
    {
      "cell_type": "code",
      "metadata": {
        "id": "I8Ia1Wm1nNvK"
      },
      "source": [
        "users.to_csv('users_cleaned.csv')"
      ],
      "execution_count": 149,
      "outputs": []
    },
    {
      "cell_type": "code",
      "metadata": {
        "id": "gwlSnLQXnYle"
      },
      "source": [
        "books.to_csv('books_cleaned.csv')"
      ],
      "execution_count": 150,
      "outputs": []
    },
    {
      "cell_type": "code",
      "metadata": {
        "colab": {
          "base_uri": "https://localhost:8080/",
          "height": 195
        },
        "id": "JLbiNvXnep9p",
        "outputId": "a2a82d26-03b4-466e-fbe6-a65c59fe31b7"
      },
      "source": [
        "ratings.head()"
      ],
      "execution_count": 151,
      "outputs": [
        {
          "output_type": "execute_result",
          "data": {
            "text/html": [
              "<div>\n",
              "<style scoped>\n",
              "    .dataframe tbody tr th:only-of-type {\n",
              "        vertical-align: middle;\n",
              "    }\n",
              "\n",
              "    .dataframe tbody tr th {\n",
              "        vertical-align: top;\n",
              "    }\n",
              "\n",
              "    .dataframe thead th {\n",
              "        text-align: right;\n",
              "    }\n",
              "</style>\n",
              "<table border=\"1\" class=\"dataframe\">\n",
              "  <thead>\n",
              "    <tr style=\"text-align: right;\">\n",
              "      <th></th>\n",
              "      <th>User-ID</th>\n",
              "      <th>ISBN</th>\n",
              "      <th>Book-Rating</th>\n",
              "    </tr>\n",
              "  </thead>\n",
              "  <tbody>\n",
              "    <tr>\n",
              "      <th>0</th>\n",
              "      <td>276725</td>\n",
              "      <td>034545104X</td>\n",
              "      <td>0</td>\n",
              "    </tr>\n",
              "    <tr>\n",
              "      <th>1</th>\n",
              "      <td>276726</td>\n",
              "      <td>0155061224</td>\n",
              "      <td>5</td>\n",
              "    </tr>\n",
              "    <tr>\n",
              "      <th>2</th>\n",
              "      <td>276727</td>\n",
              "      <td>0446520802</td>\n",
              "      <td>0</td>\n",
              "    </tr>\n",
              "    <tr>\n",
              "      <th>3</th>\n",
              "      <td>276729</td>\n",
              "      <td>052165615X</td>\n",
              "      <td>3</td>\n",
              "    </tr>\n",
              "    <tr>\n",
              "      <th>4</th>\n",
              "      <td>276729</td>\n",
              "      <td>0521795028</td>\n",
              "      <td>6</td>\n",
              "    </tr>\n",
              "  </tbody>\n",
              "</table>\n",
              "</div>"
            ],
            "text/plain": [
              "   User-ID        ISBN  Book-Rating\n",
              "0  276725   034545104X  0          \n",
              "1  276726   0155061224  5          \n",
              "2  276727   0446520802  0          \n",
              "3  276729   052165615X  3          \n",
              "4  276729   0521795028  6          "
            ]
          },
          "metadata": {
            "tags": []
          },
          "execution_count": 151
        }
      ]
    },
    {
      "cell_type": "code",
      "metadata": {
        "colab": {
          "base_uri": "https://localhost:8080/"
        },
        "id": "hDGXKscYtocH",
        "outputId": "85a7cb71-d650-453f-a990-f2dd9bf579fa"
      },
      "source": [
        "ratings.info()"
      ],
      "execution_count": 152,
      "outputs": [
        {
          "output_type": "stream",
          "text": [
            "<class 'pandas.core.frame.DataFrame'>\n",
            "Int64Index: 1149780 entries, 0 to 1149779\n",
            "Data columns (total 3 columns):\n",
            " #   Column       Non-Null Count    Dtype \n",
            "---  ------       --------------    ----- \n",
            " 0   User-ID      1149780 non-null  int64 \n",
            " 1   ISBN         1149780 non-null  object\n",
            " 2   Book-Rating  1149780 non-null  int64 \n",
            "dtypes: int64(2), object(1)\n",
            "memory usage: 35.1+ MB\n"
          ],
          "name": "stdout"
        }
      ]
    },
    {
      "cell_type": "code",
      "metadata": {
        "colab": {
          "base_uri": "https://localhost:8080/",
          "height": 195
        },
        "id": "saFf_fTToBLj",
        "outputId": "a5ec4b58-01a2-4829-a96a-9ce0ce2be8cd"
      },
      "source": [
        "users.head()"
      ],
      "execution_count": 153,
      "outputs": [
        {
          "output_type": "execute_result",
          "data": {
            "text/html": [
              "<div>\n",
              "<style scoped>\n",
              "    .dataframe tbody tr th:only-of-type {\n",
              "        vertical-align: middle;\n",
              "    }\n",
              "\n",
              "    .dataframe tbody tr th {\n",
              "        vertical-align: top;\n",
              "    }\n",
              "\n",
              "    .dataframe thead th {\n",
              "        text-align: right;\n",
              "    }\n",
              "</style>\n",
              "<table border=\"1\" class=\"dataframe\">\n",
              "  <thead>\n",
              "    <tr style=\"text-align: right;\">\n",
              "      <th></th>\n",
              "      <th>User-ID</th>\n",
              "      <th>Location</th>\n",
              "      <th>Age</th>\n",
              "    </tr>\n",
              "  </thead>\n",
              "  <tbody>\n",
              "    <tr>\n",
              "      <th>0</th>\n",
              "      <td>1</td>\n",
              "      <td>nyc, new york, usa</td>\n",
              "      <td>34</td>\n",
              "    </tr>\n",
              "    <tr>\n",
              "      <th>1</th>\n",
              "      <td>2</td>\n",
              "      <td>stockton, california, usa</td>\n",
              "      <td>18</td>\n",
              "    </tr>\n",
              "    <tr>\n",
              "      <th>2</th>\n",
              "      <td>3</td>\n",
              "      <td>moscow, yukon territory, russia</td>\n",
              "      <td>34</td>\n",
              "    </tr>\n",
              "    <tr>\n",
              "      <th>3</th>\n",
              "      <td>4</td>\n",
              "      <td>porto, v.n.gaia, portugal</td>\n",
              "      <td>17</td>\n",
              "    </tr>\n",
              "    <tr>\n",
              "      <th>4</th>\n",
              "      <td>5</td>\n",
              "      <td>farnborough, hants, united kingdom</td>\n",
              "      <td>34</td>\n",
              "    </tr>\n",
              "  </tbody>\n",
              "</table>\n",
              "</div>"
            ],
            "text/plain": [
              "   User-ID                            Location  Age\n",
              "0  1        nyc, new york, usa                  34 \n",
              "1  2        stockton, california, usa           18 \n",
              "2  3        moscow, yukon territory, russia     34 \n",
              "3  4        porto, v.n.gaia, portugal           17 \n",
              "4  5        farnborough, hants, united kingdom  34 "
            ]
          },
          "metadata": {
            "tags": []
          },
          "execution_count": 153
        }
      ]
    },
    {
      "cell_type": "code",
      "metadata": {
        "colab": {
          "base_uri": "https://localhost:8080/",
          "height": 195
        },
        "id": "RD2EB3WwoDPB",
        "outputId": "03a0cd87-3aa3-4a2a-8c28-290201508ac8"
      },
      "source": [
        "books.head()"
      ],
      "execution_count": 154,
      "outputs": [
        {
          "output_type": "execute_result",
          "data": {
            "text/html": [
              "<div>\n",
              "<style scoped>\n",
              "    .dataframe tbody tr th:only-of-type {\n",
              "        vertical-align: middle;\n",
              "    }\n",
              "\n",
              "    .dataframe tbody tr th {\n",
              "        vertical-align: top;\n",
              "    }\n",
              "\n",
              "    .dataframe thead th {\n",
              "        text-align: right;\n",
              "    }\n",
              "</style>\n",
              "<table border=\"1\" class=\"dataframe\">\n",
              "  <thead>\n",
              "    <tr style=\"text-align: right;\">\n",
              "      <th></th>\n",
              "      <th>ISBN</th>\n",
              "      <th>bookTitle</th>\n",
              "      <th>bookAuthor</th>\n",
              "      <th>yearOfPublication</th>\n",
              "      <th>publisher</th>\n",
              "    </tr>\n",
              "  </thead>\n",
              "  <tbody>\n",
              "    <tr>\n",
              "      <th>0</th>\n",
              "      <td>0195153448</td>\n",
              "      <td>Classical Mythology</td>\n",
              "      <td>Mark P. O. Morford</td>\n",
              "      <td>2002</td>\n",
              "      <td>Oxford University Press</td>\n",
              "    </tr>\n",
              "    <tr>\n",
              "      <th>1</th>\n",
              "      <td>0002005018</td>\n",
              "      <td>Clara Callan</td>\n",
              "      <td>Richard Bruce Wright</td>\n",
              "      <td>2001</td>\n",
              "      <td>HarperFlamingo Canada</td>\n",
              "    </tr>\n",
              "    <tr>\n",
              "      <th>2</th>\n",
              "      <td>0060973129</td>\n",
              "      <td>Decision in Normandy</td>\n",
              "      <td>Carlo D'Este</td>\n",
              "      <td>1991</td>\n",
              "      <td>HarperPerennial</td>\n",
              "    </tr>\n",
              "    <tr>\n",
              "      <th>3</th>\n",
              "      <td>0374157065</td>\n",
              "      <td>Flu: The Story of the Great Influenza Pandemic of 1918 and the Search for the Virus That Caused It</td>\n",
              "      <td>Gina Bari Kolata</td>\n",
              "      <td>1999</td>\n",
              "      <td>Farrar Straus Giroux</td>\n",
              "    </tr>\n",
              "    <tr>\n",
              "      <th>4</th>\n",
              "      <td>0393045218</td>\n",
              "      <td>The Mummies of Urumchi</td>\n",
              "      <td>E. J. W. Barber</td>\n",
              "      <td>1999</td>\n",
              "      <td>W. W. Norton &amp;amp; Company</td>\n",
              "    </tr>\n",
              "  </tbody>\n",
              "</table>\n",
              "</div>"
            ],
            "text/plain": [
              "         ISBN  ...                   publisher\n",
              "0  0195153448  ...  Oxford University Press   \n",
              "1  0002005018  ...  HarperFlamingo Canada     \n",
              "2  0060973129  ...  HarperPerennial           \n",
              "3  0374157065  ...  Farrar Straus Giroux      \n",
              "4  0393045218  ...  W. W. Norton &amp; Company\n",
              "\n",
              "[5 rows x 5 columns]"
            ]
          },
          "metadata": {
            "tags": []
          },
          "execution_count": 154
        }
      ]
    },
    {
      "cell_type": "code",
      "metadata": {
        "colab": {
          "base_uri": "https://localhost:8080/"
        },
        "id": "ZROO7lFooWzG",
        "outputId": "004644ab-52d6-48df-c695-c66732205988"
      },
      "source": [
        "books.info()"
      ],
      "execution_count": 155,
      "outputs": [
        {
          "output_type": "stream",
          "text": [
            "<class 'pandas.core.frame.DataFrame'>\n",
            "RangeIndex: 271360 entries, 0 to 271359\n",
            "Data columns (total 5 columns):\n",
            " #   Column             Non-Null Count   Dtype \n",
            "---  ------             --------------   ----- \n",
            " 0   ISBN               271360 non-null  object\n",
            " 1   bookTitle          271360 non-null  object\n",
            " 2   bookAuthor         271359 non-null  object\n",
            " 3   yearOfPublication  271360 non-null  int32 \n",
            " 4   publisher          271360 non-null  object\n",
            "dtypes: int32(1), object(4)\n",
            "memory usage: 9.3+ MB\n"
          ],
          "name": "stdout"
        }
      ]
    },
    {
      "cell_type": "code",
      "metadata": {
        "colab": {
          "base_uri": "https://localhost:8080/"
        },
        "id": "YBsZ4bk9o1WV",
        "outputId": "7b58b122-e887-4479-8b83-d254e191e402"
      },
      "source": [
        "books.dtypes"
      ],
      "execution_count": 156,
      "outputs": [
        {
          "output_type": "execute_result",
          "data": {
            "text/plain": [
              "ISBN                 object\n",
              "bookTitle            object\n",
              "bookAuthor           object\n",
              "yearOfPublication    int32 \n",
              "publisher            object\n",
              "dtype: object"
            ]
          },
          "metadata": {
            "tags": []
          },
          "execution_count": 156
        }
      ]
    },
    {
      "cell_type": "markdown",
      "metadata": {
        "id": "p84t3mdlNG1I"
      },
      "source": [
        "# **Book Recommendor**"
      ]
    },
    {
      "cell_type": "markdown",
      "metadata": {
        "id": "IVlt-aq-B-vk"
      },
      "source": [
        "Simple popularity based recommendation system ased on count of user ratings for different books"
      ]
    },
    {
      "cell_type": "code",
      "metadata": {
        "colab": {
          "base_uri": "https://localhost:8080/",
          "height": 343
        },
        "id": "LV9NXcduBx11",
        "outputId": "986ed96d-4c72-4d5a-ffcb-0dd60f3f2b0f"
      },
      "source": [
        "ratings_count = pd.DataFrame(ratings_explicit.groupby(['ISBN'])['Book-Rating'].sum())\n",
        "top10 = ratings_count.sort_values('Book-Rating', ascending = False).head(10)\n",
        "\n",
        "top10.merge(books, left_index = True, right_on = 'ISBN')"
      ],
      "execution_count": 157,
      "outputs": [
        {
          "output_type": "execute_result",
          "data": {
            "text/html": [
              "<div>\n",
              "<style scoped>\n",
              "    .dataframe tbody tr th:only-of-type {\n",
              "        vertical-align: middle;\n",
              "    }\n",
              "\n",
              "    .dataframe tbody tr th {\n",
              "        vertical-align: top;\n",
              "    }\n",
              "\n",
              "    .dataframe thead th {\n",
              "        text-align: right;\n",
              "    }\n",
              "</style>\n",
              "<table border=\"1\" class=\"dataframe\">\n",
              "  <thead>\n",
              "    <tr style=\"text-align: right;\">\n",
              "      <th></th>\n",
              "      <th>Book-Rating</th>\n",
              "      <th>ISBN</th>\n",
              "      <th>bookTitle</th>\n",
              "      <th>bookAuthor</th>\n",
              "      <th>yearOfPublication</th>\n",
              "      <th>publisher</th>\n",
              "    </tr>\n",
              "  </thead>\n",
              "  <tbody>\n",
              "    <tr>\n",
              "      <th>408</th>\n",
              "      <td>5787</td>\n",
              "      <td>0316666343</td>\n",
              "      <td>The Lovely Bones: A Novel</td>\n",
              "      <td>Alice Sebold</td>\n",
              "      <td>2002</td>\n",
              "      <td>Little, Brown</td>\n",
              "    </tr>\n",
              "    <tr>\n",
              "      <th>748</th>\n",
              "      <td>4108</td>\n",
              "      <td>0385504209</td>\n",
              "      <td>The Da Vinci Code</td>\n",
              "      <td>Dan Brown</td>\n",
              "      <td>2003</td>\n",
              "      <td>Doubleday</td>\n",
              "    </tr>\n",
              "    <tr>\n",
              "      <th>522</th>\n",
              "      <td>3134</td>\n",
              "      <td>0312195516</td>\n",
              "      <td>The Red Tent (Bestselling Backlist)</td>\n",
              "      <td>Anita Diamant</td>\n",
              "      <td>1998</td>\n",
              "      <td>Picador USA</td>\n",
              "    </tr>\n",
              "    <tr>\n",
              "      <th>2143</th>\n",
              "      <td>2798</td>\n",
              "      <td>059035342X</td>\n",
              "      <td>Harry Potter and the Sorcerer's Stone (Harry Potter (Paperback))</td>\n",
              "      <td>J. K. Rowling</td>\n",
              "      <td>1999</td>\n",
              "      <td>Arthur A. Levine Books</td>\n",
              "    </tr>\n",
              "    <tr>\n",
              "      <th>356</th>\n",
              "      <td>2595</td>\n",
              "      <td>0142001740</td>\n",
              "      <td>The Secret Life of Bees</td>\n",
              "      <td>Sue Monk Kidd</td>\n",
              "      <td>2003</td>\n",
              "      <td>Penguin Books</td>\n",
              "    </tr>\n",
              "    <tr>\n",
              "      <th>26</th>\n",
              "      <td>2551</td>\n",
              "      <td>0971880107</td>\n",
              "      <td>Wild Animus</td>\n",
              "      <td>Rich Shapero</td>\n",
              "      <td>2004</td>\n",
              "      <td>Too Far</td>\n",
              "    </tr>\n",
              "    <tr>\n",
              "      <th>1105</th>\n",
              "      <td>2524</td>\n",
              "      <td>0060928336</td>\n",
              "      <td>Divine Secrets of the Ya-Ya Sisterhood: A Novel</td>\n",
              "      <td>Rebecca Wells</td>\n",
              "      <td>1997</td>\n",
              "      <td>Perennial</td>\n",
              "    </tr>\n",
              "    <tr>\n",
              "      <th>706</th>\n",
              "      <td>2402</td>\n",
              "      <td>0446672211</td>\n",
              "      <td>Where the Heart Is (Oprah's Book Club (Paperback))</td>\n",
              "      <td>Billie Letts</td>\n",
              "      <td>1998</td>\n",
              "      <td>Warner Books</td>\n",
              "    </tr>\n",
              "    <tr>\n",
              "      <th>231</th>\n",
              "      <td>2219</td>\n",
              "      <td>0452282152</td>\n",
              "      <td>Girl with a Pearl Earring</td>\n",
              "      <td>Tracy Chevalier</td>\n",
              "      <td>2001</td>\n",
              "      <td>Plume Books</td>\n",
              "    </tr>\n",
              "    <tr>\n",
              "      <th>118</th>\n",
              "      <td>2179</td>\n",
              "      <td>0671027360</td>\n",
              "      <td>Angels &amp;amp; Demons</td>\n",
              "      <td>Dan Brown</td>\n",
              "      <td>2001</td>\n",
              "      <td>Pocket Star</td>\n",
              "    </tr>\n",
              "  </tbody>\n",
              "</table>\n",
              "</div>"
            ],
            "text/plain": [
              "      Book-Rating        ISBN  ... yearOfPublication               publisher\n",
              "408   5787         0316666343  ...  2002              Little, Brown         \n",
              "748   4108         0385504209  ...  2003              Doubleday             \n",
              "522   3134         0312195516  ...  1998              Picador USA           \n",
              "2143  2798         059035342X  ...  1999              Arthur A. Levine Books\n",
              "356   2595         0142001740  ...  2003              Penguin Books         \n",
              "26    2551         0971880107  ...  2004              Too Far               \n",
              "1105  2524         0060928336  ...  1997              Perennial             \n",
              "706   2402         0446672211  ...  1998              Warner Books          \n",
              "231   2219         0452282152  ...  2001              Plume Books           \n",
              "118   2179         0671027360  ...  2001              Pocket Star           \n",
              "\n",
              "[10 rows x 6 columns]"
            ]
          },
          "metadata": {
            "tags": []
          },
          "execution_count": 157
        }
      ]
    },
    {
      "cell_type": "code",
      "metadata": {
        "id": "uYoJyqb1CaDF"
      },
      "source": [
        "users_exp_ratings = users[users['User-ID'].isin(ratings_explicit['User-ID'])]\n",
        "users_imp_ratings = users[users['User-ID'].isin(ratings_implicit['User-ID'])]"
      ],
      "execution_count": 158,
      "outputs": []
    },
    {
      "cell_type": "code",
      "metadata": {
        "colab": {
          "base_uri": "https://localhost:8080/"
        },
        "id": "5rIBp4xCCcbz",
        "outputId": "cfa4360a-2e67-44f0-e3aa-91b59a5649db"
      },
      "source": [
        "print(users.shape)\n",
        "print(users_exp_ratings.shape)\n",
        "print(users_imp_ratings.shape)"
      ],
      "execution_count": 159,
      "outputs": [
        {
          "output_type": "stream",
          "text": [
            "(278858, 3)\n",
            "(68091, 3)\n",
            "(52451, 3)\n"
          ],
          "name": "stdout"
        }
      ]
    },
    {
      "cell_type": "markdown",
      "metadata": {
        "id": "kCW2IVOKGb-I"
      },
      "source": [
        "# **Collaborative System**"
      ]
    },
    {
      "cell_type": "code",
      "metadata": {
        "id": "Wsccf7BxuKXk"
      },
      "source": [
        "#To cope up with computing power I have and to reduce the dataset size, I am considering users who have rated atleast 100 books\n",
        "#and books which have atleast 100 ratings\n",
        "counts1 = ratings_explicit['User-ID'].value_counts()\n",
        "ratings_explicit = ratings_explicit[ratings_explicit['User-ID'].isin(counts1[counts1 >= 100].index)]\n",
        "counts = ratings_explicit['Book-Rating'].value_counts()\n",
        "ratings_explicit = ratings_explicit[ratings_explicit['Book-Rating'].isin(counts[counts >= 100].index)]\n"
      ],
      "execution_count": 160,
      "outputs": []
    },
    {
      "cell_type": "code",
      "metadata": {
        "colab": {
          "base_uri": "https://localhost:8080/",
          "height": 307
        },
        "id": "eZqTyuuLuXF0",
        "outputId": "578a7168-6277-4295-a336-1afe5469ed33"
      },
      "source": [
        "#Generating ratings matrix from explicit ratings table\n",
        "ratings_matrix = ratings_explicit.pivot(index='User-ID', columns='ISBN', values='Book-Rating')\n",
        "userID = ratings_matrix.index\n",
        "ISBN = ratings_matrix.columns\n",
        "print(ratings_matrix.shape)\n",
        "ratings_matrix.head()\n",
        "#Notice that most of the values are NaN (undefined) implying absence of ratings\n"
      ],
      "execution_count": 161,
      "outputs": [
        {
          "output_type": "stream",
          "text": [
            "(449, 66574)\n"
          ],
          "name": "stdout"
        },
        {
          "output_type": "execute_result",
          "data": {
            "text/html": [
              "<div>\n",
              "<style scoped>\n",
              "    .dataframe tbody tr th:only-of-type {\n",
              "        vertical-align: middle;\n",
              "    }\n",
              "\n",
              "    .dataframe tbody tr th {\n",
              "        vertical-align: top;\n",
              "    }\n",
              "\n",
              "    .dataframe thead th {\n",
              "        text-align: right;\n",
              "    }\n",
              "</style>\n",
              "<table border=\"1\" class=\"dataframe\">\n",
              "  <thead>\n",
              "    <tr style=\"text-align: right;\">\n",
              "      <th>ISBN</th>\n",
              "      <th>0000913154</th>\n",
              "      <th>0001046438</th>\n",
              "      <th>000104687X</th>\n",
              "      <th>0001047213</th>\n",
              "      <th>0001047973</th>\n",
              "      <th>000104799X</th>\n",
              "      <th>0001048082</th>\n",
              "      <th>0001053736</th>\n",
              "      <th>0001053744</th>\n",
              "      <th>0001055607</th>\n",
              "      <th>0001056107</th>\n",
              "      <th>0001845039</th>\n",
              "      <th>0001935968</th>\n",
              "      <th>0001944711</th>\n",
              "      <th>0001952803</th>\n",
              "      <th>0001953877</th>\n",
              "      <th>0002000547</th>\n",
              "      <th>0002005018</th>\n",
              "      <th>0002005050</th>\n",
              "      <th>0002005557</th>\n",
              "      <th>0002006588</th>\n",
              "      <th>0002115328</th>\n",
              "      <th>0002116286</th>\n",
              "      <th>0002118580</th>\n",
              "      <th>0002154900</th>\n",
              "      <th>0002158973</th>\n",
              "      <th>0002163713</th>\n",
              "      <th>0002176181</th>\n",
              "      <th>0002176432</th>\n",
              "      <th>0002179695</th>\n",
              "      <th>0002181924</th>\n",
              "      <th>0002184974</th>\n",
              "      <th>0002190915</th>\n",
              "      <th>0002197154</th>\n",
              "      <th>0002223929</th>\n",
              "      <th>0002228394</th>\n",
              "      <th>000223257X</th>\n",
              "      <th>0002233509</th>\n",
              "      <th>0002239183</th>\n",
              "      <th>0002240114</th>\n",
              "      <th>...</th>\n",
              "      <th>987960170X</th>\n",
              "      <th>9974643058</th>\n",
              "      <th>999058284X</th>\n",
              "      <th>9992003766</th>\n",
              "      <th>9992059958</th>\n",
              "      <th>9993584185</th>\n",
              "      <th>9994256963</th>\n",
              "      <th>9994348337</th>\n",
              "      <th>9997405137</th>\n",
              "      <th>9997406567</th>\n",
              "      <th>9997406990</th>\n",
              "      <th>999740923X</th>\n",
              "      <th>9997409728</th>\n",
              "      <th>9997411757</th>\n",
              "      <th>9997411870</th>\n",
              "      <th>9997412044</th>\n",
              "      <th>9997412958</th>\n",
              "      <th>9997507002</th>\n",
              "      <th>999750805X</th>\n",
              "      <th>9997508769</th>\n",
              "      <th>9997512952</th>\n",
              "      <th>9997519086</th>\n",
              "      <th>9997555635</th>\n",
              "      <th>9998914140</th>\n",
              "      <th>B00001U0CP</th>\n",
              "      <th>B00005TZWI</th>\n",
              "      <th>B00006CRTE</th>\n",
              "      <th>B00006I4OX</th>\n",
              "      <th>B00007FYKW</th>\n",
              "      <th>B00008RWPV</th>\n",
              "      <th>B000092Q0A</th>\n",
              "      <th>B00009EF82</th>\n",
              "      <th>B00009NDAN</th>\n",
              "      <th>B0000DYXID</th>\n",
              "      <th>B0000T6KHI</th>\n",
              "      <th>B0000VZEJQ</th>\n",
              "      <th>B0000X8HIE</th>\n",
              "      <th>B00013AX9E</th>\n",
              "      <th>B0001I1KOG</th>\n",
              "      <th>B000234N3A</th>\n",
              "    </tr>\n",
              "    <tr>\n",
              "      <th>User-ID</th>\n",
              "      <th></th>\n",
              "      <th></th>\n",
              "      <th></th>\n",
              "      <th></th>\n",
              "      <th></th>\n",
              "      <th></th>\n",
              "      <th></th>\n",
              "      <th></th>\n",
              "      <th></th>\n",
              "      <th></th>\n",
              "      <th></th>\n",
              "      <th></th>\n",
              "      <th></th>\n",
              "      <th></th>\n",
              "      <th></th>\n",
              "      <th></th>\n",
              "      <th></th>\n",
              "      <th></th>\n",
              "      <th></th>\n",
              "      <th></th>\n",
              "      <th></th>\n",
              "      <th></th>\n",
              "      <th></th>\n",
              "      <th></th>\n",
              "      <th></th>\n",
              "      <th></th>\n",
              "      <th></th>\n",
              "      <th></th>\n",
              "      <th></th>\n",
              "      <th></th>\n",
              "      <th></th>\n",
              "      <th></th>\n",
              "      <th></th>\n",
              "      <th></th>\n",
              "      <th></th>\n",
              "      <th></th>\n",
              "      <th></th>\n",
              "      <th></th>\n",
              "      <th></th>\n",
              "      <th></th>\n",
              "      <th></th>\n",
              "      <th></th>\n",
              "      <th></th>\n",
              "      <th></th>\n",
              "      <th></th>\n",
              "      <th></th>\n",
              "      <th></th>\n",
              "      <th></th>\n",
              "      <th></th>\n",
              "      <th></th>\n",
              "      <th></th>\n",
              "      <th></th>\n",
              "      <th></th>\n",
              "      <th></th>\n",
              "      <th></th>\n",
              "      <th></th>\n",
              "      <th></th>\n",
              "      <th></th>\n",
              "      <th></th>\n",
              "      <th></th>\n",
              "      <th></th>\n",
              "      <th></th>\n",
              "      <th></th>\n",
              "      <th></th>\n",
              "      <th></th>\n",
              "      <th></th>\n",
              "      <th></th>\n",
              "      <th></th>\n",
              "      <th></th>\n",
              "      <th></th>\n",
              "      <th></th>\n",
              "      <th></th>\n",
              "      <th></th>\n",
              "      <th></th>\n",
              "      <th></th>\n",
              "      <th></th>\n",
              "      <th></th>\n",
              "      <th></th>\n",
              "      <th></th>\n",
              "      <th></th>\n",
              "      <th></th>\n",
              "    </tr>\n",
              "  </thead>\n",
              "  <tbody>\n",
              "    <tr>\n",
              "      <th>2033</th>\n",
              "      <td>NaN</td>\n",
              "      <td>NaN</td>\n",
              "      <td>NaN</td>\n",
              "      <td>NaN</td>\n",
              "      <td>NaN</td>\n",
              "      <td>NaN</td>\n",
              "      <td>NaN</td>\n",
              "      <td>NaN</td>\n",
              "      <td>NaN</td>\n",
              "      <td>NaN</td>\n",
              "      <td>NaN</td>\n",
              "      <td>NaN</td>\n",
              "      <td>NaN</td>\n",
              "      <td>NaN</td>\n",
              "      <td>NaN</td>\n",
              "      <td>NaN</td>\n",
              "      <td>NaN</td>\n",
              "      <td>NaN</td>\n",
              "      <td>NaN</td>\n",
              "      <td>NaN</td>\n",
              "      <td>NaN</td>\n",
              "      <td>NaN</td>\n",
              "      <td>NaN</td>\n",
              "      <td>NaN</td>\n",
              "      <td>NaN</td>\n",
              "      <td>NaN</td>\n",
              "      <td>NaN</td>\n",
              "      <td>NaN</td>\n",
              "      <td>NaN</td>\n",
              "      <td>NaN</td>\n",
              "      <td>NaN</td>\n",
              "      <td>NaN</td>\n",
              "      <td>NaN</td>\n",
              "      <td>NaN</td>\n",
              "      <td>NaN</td>\n",
              "      <td>NaN</td>\n",
              "      <td>NaN</td>\n",
              "      <td>NaN</td>\n",
              "      <td>NaN</td>\n",
              "      <td>NaN</td>\n",
              "      <td>...</td>\n",
              "      <td>NaN</td>\n",
              "      <td>NaN</td>\n",
              "      <td>NaN</td>\n",
              "      <td>NaN</td>\n",
              "      <td>NaN</td>\n",
              "      <td>NaN</td>\n",
              "      <td>NaN</td>\n",
              "      <td>NaN</td>\n",
              "      <td>NaN</td>\n",
              "      <td>NaN</td>\n",
              "      <td>NaN</td>\n",
              "      <td>NaN</td>\n",
              "      <td>NaN</td>\n",
              "      <td>NaN</td>\n",
              "      <td>NaN</td>\n",
              "      <td>NaN</td>\n",
              "      <td>NaN</td>\n",
              "      <td>NaN</td>\n",
              "      <td>NaN</td>\n",
              "      <td>NaN</td>\n",
              "      <td>NaN</td>\n",
              "      <td>NaN</td>\n",
              "      <td>NaN</td>\n",
              "      <td>NaN</td>\n",
              "      <td>NaN</td>\n",
              "      <td>NaN</td>\n",
              "      <td>NaN</td>\n",
              "      <td>NaN</td>\n",
              "      <td>NaN</td>\n",
              "      <td>NaN</td>\n",
              "      <td>NaN</td>\n",
              "      <td>NaN</td>\n",
              "      <td>NaN</td>\n",
              "      <td>NaN</td>\n",
              "      <td>NaN</td>\n",
              "      <td>NaN</td>\n",
              "      <td>NaN</td>\n",
              "      <td>NaN</td>\n",
              "      <td>NaN</td>\n",
              "      <td>NaN</td>\n",
              "    </tr>\n",
              "    <tr>\n",
              "      <th>2110</th>\n",
              "      <td>NaN</td>\n",
              "      <td>NaN</td>\n",
              "      <td>NaN</td>\n",
              "      <td>NaN</td>\n",
              "      <td>NaN</td>\n",
              "      <td>NaN</td>\n",
              "      <td>NaN</td>\n",
              "      <td>NaN</td>\n",
              "      <td>NaN</td>\n",
              "      <td>NaN</td>\n",
              "      <td>NaN</td>\n",
              "      <td>NaN</td>\n",
              "      <td>NaN</td>\n",
              "      <td>NaN</td>\n",
              "      <td>NaN</td>\n",
              "      <td>NaN</td>\n",
              "      <td>NaN</td>\n",
              "      <td>NaN</td>\n",
              "      <td>NaN</td>\n",
              "      <td>NaN</td>\n",
              "      <td>NaN</td>\n",
              "      <td>NaN</td>\n",
              "      <td>NaN</td>\n",
              "      <td>NaN</td>\n",
              "      <td>NaN</td>\n",
              "      <td>NaN</td>\n",
              "      <td>NaN</td>\n",
              "      <td>NaN</td>\n",
              "      <td>NaN</td>\n",
              "      <td>NaN</td>\n",
              "      <td>NaN</td>\n",
              "      <td>NaN</td>\n",
              "      <td>NaN</td>\n",
              "      <td>NaN</td>\n",
              "      <td>NaN</td>\n",
              "      <td>NaN</td>\n",
              "      <td>NaN</td>\n",
              "      <td>NaN</td>\n",
              "      <td>NaN</td>\n",
              "      <td>NaN</td>\n",
              "      <td>...</td>\n",
              "      <td>NaN</td>\n",
              "      <td>NaN</td>\n",
              "      <td>NaN</td>\n",
              "      <td>NaN</td>\n",
              "      <td>NaN</td>\n",
              "      <td>NaN</td>\n",
              "      <td>NaN</td>\n",
              "      <td>NaN</td>\n",
              "      <td>NaN</td>\n",
              "      <td>NaN</td>\n",
              "      <td>NaN</td>\n",
              "      <td>NaN</td>\n",
              "      <td>NaN</td>\n",
              "      <td>NaN</td>\n",
              "      <td>NaN</td>\n",
              "      <td>NaN</td>\n",
              "      <td>NaN</td>\n",
              "      <td>NaN</td>\n",
              "      <td>NaN</td>\n",
              "      <td>NaN</td>\n",
              "      <td>NaN</td>\n",
              "      <td>NaN</td>\n",
              "      <td>NaN</td>\n",
              "      <td>NaN</td>\n",
              "      <td>NaN</td>\n",
              "      <td>NaN</td>\n",
              "      <td>NaN</td>\n",
              "      <td>NaN</td>\n",
              "      <td>NaN</td>\n",
              "      <td>NaN</td>\n",
              "      <td>NaN</td>\n",
              "      <td>NaN</td>\n",
              "      <td>NaN</td>\n",
              "      <td>NaN</td>\n",
              "      <td>NaN</td>\n",
              "      <td>NaN</td>\n",
              "      <td>NaN</td>\n",
              "      <td>NaN</td>\n",
              "      <td>NaN</td>\n",
              "      <td>NaN</td>\n",
              "    </tr>\n",
              "    <tr>\n",
              "      <th>2276</th>\n",
              "      <td>NaN</td>\n",
              "      <td>NaN</td>\n",
              "      <td>NaN</td>\n",
              "      <td>NaN</td>\n",
              "      <td>NaN</td>\n",
              "      <td>NaN</td>\n",
              "      <td>NaN</td>\n",
              "      <td>NaN</td>\n",
              "      <td>NaN</td>\n",
              "      <td>NaN</td>\n",
              "      <td>NaN</td>\n",
              "      <td>NaN</td>\n",
              "      <td>NaN</td>\n",
              "      <td>NaN</td>\n",
              "      <td>NaN</td>\n",
              "      <td>NaN</td>\n",
              "      <td>NaN</td>\n",
              "      <td>NaN</td>\n",
              "      <td>NaN</td>\n",
              "      <td>NaN</td>\n",
              "      <td>NaN</td>\n",
              "      <td>NaN</td>\n",
              "      <td>NaN</td>\n",
              "      <td>NaN</td>\n",
              "      <td>NaN</td>\n",
              "      <td>NaN</td>\n",
              "      <td>NaN</td>\n",
              "      <td>NaN</td>\n",
              "      <td>NaN</td>\n",
              "      <td>NaN</td>\n",
              "      <td>NaN</td>\n",
              "      <td>NaN</td>\n",
              "      <td>NaN</td>\n",
              "      <td>NaN</td>\n",
              "      <td>NaN</td>\n",
              "      <td>NaN</td>\n",
              "      <td>NaN</td>\n",
              "      <td>NaN</td>\n",
              "      <td>NaN</td>\n",
              "      <td>NaN</td>\n",
              "      <td>...</td>\n",
              "      <td>NaN</td>\n",
              "      <td>NaN</td>\n",
              "      <td>NaN</td>\n",
              "      <td>NaN</td>\n",
              "      <td>NaN</td>\n",
              "      <td>NaN</td>\n",
              "      <td>NaN</td>\n",
              "      <td>NaN</td>\n",
              "      <td>NaN</td>\n",
              "      <td>NaN</td>\n",
              "      <td>NaN</td>\n",
              "      <td>NaN</td>\n",
              "      <td>NaN</td>\n",
              "      <td>NaN</td>\n",
              "      <td>NaN</td>\n",
              "      <td>NaN</td>\n",
              "      <td>NaN</td>\n",
              "      <td>NaN</td>\n",
              "      <td>NaN</td>\n",
              "      <td>NaN</td>\n",
              "      <td>NaN</td>\n",
              "      <td>NaN</td>\n",
              "      <td>NaN</td>\n",
              "      <td>NaN</td>\n",
              "      <td>NaN</td>\n",
              "      <td>NaN</td>\n",
              "      <td>NaN</td>\n",
              "      <td>NaN</td>\n",
              "      <td>NaN</td>\n",
              "      <td>NaN</td>\n",
              "      <td>NaN</td>\n",
              "      <td>NaN</td>\n",
              "      <td>NaN</td>\n",
              "      <td>NaN</td>\n",
              "      <td>NaN</td>\n",
              "      <td>NaN</td>\n",
              "      <td>NaN</td>\n",
              "      <td>NaN</td>\n",
              "      <td>NaN</td>\n",
              "      <td>NaN</td>\n",
              "    </tr>\n",
              "    <tr>\n",
              "      <th>4017</th>\n",
              "      <td>NaN</td>\n",
              "      <td>NaN</td>\n",
              "      <td>NaN</td>\n",
              "      <td>NaN</td>\n",
              "      <td>NaN</td>\n",
              "      <td>NaN</td>\n",
              "      <td>NaN</td>\n",
              "      <td>NaN</td>\n",
              "      <td>NaN</td>\n",
              "      <td>NaN</td>\n",
              "      <td>NaN</td>\n",
              "      <td>NaN</td>\n",
              "      <td>NaN</td>\n",
              "      <td>NaN</td>\n",
              "      <td>NaN</td>\n",
              "      <td>NaN</td>\n",
              "      <td>NaN</td>\n",
              "      <td>NaN</td>\n",
              "      <td>NaN</td>\n",
              "      <td>NaN</td>\n",
              "      <td>NaN</td>\n",
              "      <td>NaN</td>\n",
              "      <td>NaN</td>\n",
              "      <td>NaN</td>\n",
              "      <td>NaN</td>\n",
              "      <td>NaN</td>\n",
              "      <td>NaN</td>\n",
              "      <td>NaN</td>\n",
              "      <td>NaN</td>\n",
              "      <td>NaN</td>\n",
              "      <td>NaN</td>\n",
              "      <td>NaN</td>\n",
              "      <td>NaN</td>\n",
              "      <td>NaN</td>\n",
              "      <td>NaN</td>\n",
              "      <td>NaN</td>\n",
              "      <td>NaN</td>\n",
              "      <td>NaN</td>\n",
              "      <td>NaN</td>\n",
              "      <td>NaN</td>\n",
              "      <td>...</td>\n",
              "      <td>NaN</td>\n",
              "      <td>NaN</td>\n",
              "      <td>NaN</td>\n",
              "      <td>NaN</td>\n",
              "      <td>NaN</td>\n",
              "      <td>NaN</td>\n",
              "      <td>NaN</td>\n",
              "      <td>NaN</td>\n",
              "      <td>NaN</td>\n",
              "      <td>NaN</td>\n",
              "      <td>NaN</td>\n",
              "      <td>NaN</td>\n",
              "      <td>NaN</td>\n",
              "      <td>NaN</td>\n",
              "      <td>NaN</td>\n",
              "      <td>NaN</td>\n",
              "      <td>NaN</td>\n",
              "      <td>NaN</td>\n",
              "      <td>NaN</td>\n",
              "      <td>NaN</td>\n",
              "      <td>NaN</td>\n",
              "      <td>NaN</td>\n",
              "      <td>NaN</td>\n",
              "      <td>NaN</td>\n",
              "      <td>NaN</td>\n",
              "      <td>NaN</td>\n",
              "      <td>NaN</td>\n",
              "      <td>NaN</td>\n",
              "      <td>NaN</td>\n",
              "      <td>NaN</td>\n",
              "      <td>NaN</td>\n",
              "      <td>NaN</td>\n",
              "      <td>NaN</td>\n",
              "      <td>NaN</td>\n",
              "      <td>NaN</td>\n",
              "      <td>NaN</td>\n",
              "      <td>NaN</td>\n",
              "      <td>NaN</td>\n",
              "      <td>NaN</td>\n",
              "      <td>NaN</td>\n",
              "    </tr>\n",
              "    <tr>\n",
              "      <th>4385</th>\n",
              "      <td>NaN</td>\n",
              "      <td>NaN</td>\n",
              "      <td>NaN</td>\n",
              "      <td>NaN</td>\n",
              "      <td>NaN</td>\n",
              "      <td>NaN</td>\n",
              "      <td>NaN</td>\n",
              "      <td>NaN</td>\n",
              "      <td>NaN</td>\n",
              "      <td>NaN</td>\n",
              "      <td>NaN</td>\n",
              "      <td>NaN</td>\n",
              "      <td>NaN</td>\n",
              "      <td>NaN</td>\n",
              "      <td>NaN</td>\n",
              "      <td>NaN</td>\n",
              "      <td>NaN</td>\n",
              "      <td>NaN</td>\n",
              "      <td>NaN</td>\n",
              "      <td>NaN</td>\n",
              "      <td>NaN</td>\n",
              "      <td>NaN</td>\n",
              "      <td>NaN</td>\n",
              "      <td>NaN</td>\n",
              "      <td>NaN</td>\n",
              "      <td>NaN</td>\n",
              "      <td>NaN</td>\n",
              "      <td>NaN</td>\n",
              "      <td>NaN</td>\n",
              "      <td>NaN</td>\n",
              "      <td>NaN</td>\n",
              "      <td>NaN</td>\n",
              "      <td>NaN</td>\n",
              "      <td>NaN</td>\n",
              "      <td>NaN</td>\n",
              "      <td>NaN</td>\n",
              "      <td>NaN</td>\n",
              "      <td>NaN</td>\n",
              "      <td>NaN</td>\n",
              "      <td>NaN</td>\n",
              "      <td>...</td>\n",
              "      <td>NaN</td>\n",
              "      <td>NaN</td>\n",
              "      <td>NaN</td>\n",
              "      <td>NaN</td>\n",
              "      <td>NaN</td>\n",
              "      <td>NaN</td>\n",
              "      <td>NaN</td>\n",
              "      <td>NaN</td>\n",
              "      <td>NaN</td>\n",
              "      <td>NaN</td>\n",
              "      <td>NaN</td>\n",
              "      <td>NaN</td>\n",
              "      <td>NaN</td>\n",
              "      <td>NaN</td>\n",
              "      <td>NaN</td>\n",
              "      <td>NaN</td>\n",
              "      <td>NaN</td>\n",
              "      <td>NaN</td>\n",
              "      <td>NaN</td>\n",
              "      <td>NaN</td>\n",
              "      <td>NaN</td>\n",
              "      <td>NaN</td>\n",
              "      <td>NaN</td>\n",
              "      <td>NaN</td>\n",
              "      <td>NaN</td>\n",
              "      <td>NaN</td>\n",
              "      <td>NaN</td>\n",
              "      <td>NaN</td>\n",
              "      <td>NaN</td>\n",
              "      <td>NaN</td>\n",
              "      <td>NaN</td>\n",
              "      <td>NaN</td>\n",
              "      <td>NaN</td>\n",
              "      <td>NaN</td>\n",
              "      <td>NaN</td>\n",
              "      <td>NaN</td>\n",
              "      <td>NaN</td>\n",
              "      <td>NaN</td>\n",
              "      <td>NaN</td>\n",
              "      <td>NaN</td>\n",
              "    </tr>\n",
              "  </tbody>\n",
              "</table>\n",
              "<p>5 rows × 66574 columns</p>\n",
              "</div>"
            ],
            "text/plain": [
              "ISBN     0000913154  0001046438  000104687X  ...  B00013AX9E  B0001I1KOG  B000234N3A\n",
              "User-ID                                      ...                                    \n",
              "2033    NaN         NaN         NaN          ... NaN         NaN         NaN        \n",
              "2110    NaN         NaN         NaN          ... NaN         NaN         NaN        \n",
              "2276    NaN         NaN         NaN          ... NaN         NaN         NaN        \n",
              "4017    NaN         NaN         NaN          ... NaN         NaN         NaN        \n",
              "4385    NaN         NaN         NaN          ... NaN         NaN         NaN        \n",
              "\n",
              "[5 rows x 66574 columns]"
            ]
          },
          "metadata": {
            "tags": []
          },
          "execution_count": 161
        }
      ]
    },
    {
      "cell_type": "code",
      "metadata": {
        "colab": {
          "base_uri": "https://localhost:8080/"
        },
        "id": "ixN1JUe_u6_y",
        "outputId": "4ebc9436-1e48-497a-f76a-524715d47979"
      },
      "source": [
        "n_users = ratings_matrix.shape[0] #considering only those users who gave explicit ratings\n",
        "n_books = ratings_matrix.shape[1]\n",
        "print(n_users, n_books)"
      ],
      "execution_count": 162,
      "outputs": [
        {
          "output_type": "stream",
          "text": [
            "449 66574\n"
          ],
          "name": "stdout"
        }
      ]
    },
    {
      "cell_type": "code",
      "metadata": {
        "id": "6wahtrPzvNjB"
      },
      "source": [
        "#since NaNs cannot be handled by training algorithms, replacing these by 0, which indicates absence of ratings\n",
        "#setting data type\n",
        "ratings_matrix.fillna(0, inplace = True)\n",
        "ratings_matrix = ratings_matrix.astype(np.int32)"
      ],
      "execution_count": 163,
      "outputs": []
    },
    {
      "cell_type": "code",
      "metadata": {
        "colab": {
          "base_uri": "https://localhost:8080/",
          "height": 290
        },
        "id": "CnPFGd6QvYN6",
        "outputId": "2e3bb7b3-296d-4c15-dea6-d1bde2217361"
      },
      "source": [
        "#checking first few rows\n",
        "ratings_matrix.head(5)"
      ],
      "execution_count": 164,
      "outputs": [
        {
          "output_type": "execute_result",
          "data": {
            "text/html": [
              "<div>\n",
              "<style scoped>\n",
              "    .dataframe tbody tr th:only-of-type {\n",
              "        vertical-align: middle;\n",
              "    }\n",
              "\n",
              "    .dataframe tbody tr th {\n",
              "        vertical-align: top;\n",
              "    }\n",
              "\n",
              "    .dataframe thead th {\n",
              "        text-align: right;\n",
              "    }\n",
              "</style>\n",
              "<table border=\"1\" class=\"dataframe\">\n",
              "  <thead>\n",
              "    <tr style=\"text-align: right;\">\n",
              "      <th>ISBN</th>\n",
              "      <th>0000913154</th>\n",
              "      <th>0001046438</th>\n",
              "      <th>000104687X</th>\n",
              "      <th>0001047213</th>\n",
              "      <th>0001047973</th>\n",
              "      <th>000104799X</th>\n",
              "      <th>0001048082</th>\n",
              "      <th>0001053736</th>\n",
              "      <th>0001053744</th>\n",
              "      <th>0001055607</th>\n",
              "      <th>0001056107</th>\n",
              "      <th>0001845039</th>\n",
              "      <th>0001935968</th>\n",
              "      <th>0001944711</th>\n",
              "      <th>0001952803</th>\n",
              "      <th>0001953877</th>\n",
              "      <th>0002000547</th>\n",
              "      <th>0002005018</th>\n",
              "      <th>0002005050</th>\n",
              "      <th>0002005557</th>\n",
              "      <th>0002006588</th>\n",
              "      <th>0002115328</th>\n",
              "      <th>0002116286</th>\n",
              "      <th>0002118580</th>\n",
              "      <th>0002154900</th>\n",
              "      <th>0002158973</th>\n",
              "      <th>0002163713</th>\n",
              "      <th>0002176181</th>\n",
              "      <th>0002176432</th>\n",
              "      <th>0002179695</th>\n",
              "      <th>0002181924</th>\n",
              "      <th>0002184974</th>\n",
              "      <th>0002190915</th>\n",
              "      <th>0002197154</th>\n",
              "      <th>0002223929</th>\n",
              "      <th>0002228394</th>\n",
              "      <th>000223257X</th>\n",
              "      <th>0002233509</th>\n",
              "      <th>0002239183</th>\n",
              "      <th>0002240114</th>\n",
              "      <th>...</th>\n",
              "      <th>987960170X</th>\n",
              "      <th>9974643058</th>\n",
              "      <th>999058284X</th>\n",
              "      <th>9992003766</th>\n",
              "      <th>9992059958</th>\n",
              "      <th>9993584185</th>\n",
              "      <th>9994256963</th>\n",
              "      <th>9994348337</th>\n",
              "      <th>9997405137</th>\n",
              "      <th>9997406567</th>\n",
              "      <th>9997406990</th>\n",
              "      <th>999740923X</th>\n",
              "      <th>9997409728</th>\n",
              "      <th>9997411757</th>\n",
              "      <th>9997411870</th>\n",
              "      <th>9997412044</th>\n",
              "      <th>9997412958</th>\n",
              "      <th>9997507002</th>\n",
              "      <th>999750805X</th>\n",
              "      <th>9997508769</th>\n",
              "      <th>9997512952</th>\n",
              "      <th>9997519086</th>\n",
              "      <th>9997555635</th>\n",
              "      <th>9998914140</th>\n",
              "      <th>B00001U0CP</th>\n",
              "      <th>B00005TZWI</th>\n",
              "      <th>B00006CRTE</th>\n",
              "      <th>B00006I4OX</th>\n",
              "      <th>B00007FYKW</th>\n",
              "      <th>B00008RWPV</th>\n",
              "      <th>B000092Q0A</th>\n",
              "      <th>B00009EF82</th>\n",
              "      <th>B00009NDAN</th>\n",
              "      <th>B0000DYXID</th>\n",
              "      <th>B0000T6KHI</th>\n",
              "      <th>B0000VZEJQ</th>\n",
              "      <th>B0000X8HIE</th>\n",
              "      <th>B00013AX9E</th>\n",
              "      <th>B0001I1KOG</th>\n",
              "      <th>B000234N3A</th>\n",
              "    </tr>\n",
              "    <tr>\n",
              "      <th>User-ID</th>\n",
              "      <th></th>\n",
              "      <th></th>\n",
              "      <th></th>\n",
              "      <th></th>\n",
              "      <th></th>\n",
              "      <th></th>\n",
              "      <th></th>\n",
              "      <th></th>\n",
              "      <th></th>\n",
              "      <th></th>\n",
              "      <th></th>\n",
              "      <th></th>\n",
              "      <th></th>\n",
              "      <th></th>\n",
              "      <th></th>\n",
              "      <th></th>\n",
              "      <th></th>\n",
              "      <th></th>\n",
              "      <th></th>\n",
              "      <th></th>\n",
              "      <th></th>\n",
              "      <th></th>\n",
              "      <th></th>\n",
              "      <th></th>\n",
              "      <th></th>\n",
              "      <th></th>\n",
              "      <th></th>\n",
              "      <th></th>\n",
              "      <th></th>\n",
              "      <th></th>\n",
              "      <th></th>\n",
              "      <th></th>\n",
              "      <th></th>\n",
              "      <th></th>\n",
              "      <th></th>\n",
              "      <th></th>\n",
              "      <th></th>\n",
              "      <th></th>\n",
              "      <th></th>\n",
              "      <th></th>\n",
              "      <th></th>\n",
              "      <th></th>\n",
              "      <th></th>\n",
              "      <th></th>\n",
              "      <th></th>\n",
              "      <th></th>\n",
              "      <th></th>\n",
              "      <th></th>\n",
              "      <th></th>\n",
              "      <th></th>\n",
              "      <th></th>\n",
              "      <th></th>\n",
              "      <th></th>\n",
              "      <th></th>\n",
              "      <th></th>\n",
              "      <th></th>\n",
              "      <th></th>\n",
              "      <th></th>\n",
              "      <th></th>\n",
              "      <th></th>\n",
              "      <th></th>\n",
              "      <th></th>\n",
              "      <th></th>\n",
              "      <th></th>\n",
              "      <th></th>\n",
              "      <th></th>\n",
              "      <th></th>\n",
              "      <th></th>\n",
              "      <th></th>\n",
              "      <th></th>\n",
              "      <th></th>\n",
              "      <th></th>\n",
              "      <th></th>\n",
              "      <th></th>\n",
              "      <th></th>\n",
              "      <th></th>\n",
              "      <th></th>\n",
              "      <th></th>\n",
              "      <th></th>\n",
              "      <th></th>\n",
              "      <th></th>\n",
              "    </tr>\n",
              "  </thead>\n",
              "  <tbody>\n",
              "    <tr>\n",
              "      <th>2033</th>\n",
              "      <td>0</td>\n",
              "      <td>0</td>\n",
              "      <td>0</td>\n",
              "      <td>0</td>\n",
              "      <td>0</td>\n",
              "      <td>0</td>\n",
              "      <td>0</td>\n",
              "      <td>0</td>\n",
              "      <td>0</td>\n",
              "      <td>0</td>\n",
              "      <td>0</td>\n",
              "      <td>0</td>\n",
              "      <td>0</td>\n",
              "      <td>0</td>\n",
              "      <td>0</td>\n",
              "      <td>0</td>\n",
              "      <td>0</td>\n",
              "      <td>0</td>\n",
              "      <td>0</td>\n",
              "      <td>0</td>\n",
              "      <td>0</td>\n",
              "      <td>0</td>\n",
              "      <td>0</td>\n",
              "      <td>0</td>\n",
              "      <td>0</td>\n",
              "      <td>0</td>\n",
              "      <td>0</td>\n",
              "      <td>0</td>\n",
              "      <td>0</td>\n",
              "      <td>0</td>\n",
              "      <td>0</td>\n",
              "      <td>0</td>\n",
              "      <td>0</td>\n",
              "      <td>0</td>\n",
              "      <td>0</td>\n",
              "      <td>0</td>\n",
              "      <td>0</td>\n",
              "      <td>0</td>\n",
              "      <td>0</td>\n",
              "      <td>0</td>\n",
              "      <td>...</td>\n",
              "      <td>0</td>\n",
              "      <td>0</td>\n",
              "      <td>0</td>\n",
              "      <td>0</td>\n",
              "      <td>0</td>\n",
              "      <td>0</td>\n",
              "      <td>0</td>\n",
              "      <td>0</td>\n",
              "      <td>0</td>\n",
              "      <td>0</td>\n",
              "      <td>0</td>\n",
              "      <td>0</td>\n",
              "      <td>0</td>\n",
              "      <td>0</td>\n",
              "      <td>0</td>\n",
              "      <td>0</td>\n",
              "      <td>0</td>\n",
              "      <td>0</td>\n",
              "      <td>0</td>\n",
              "      <td>0</td>\n",
              "      <td>0</td>\n",
              "      <td>0</td>\n",
              "      <td>0</td>\n",
              "      <td>0</td>\n",
              "      <td>0</td>\n",
              "      <td>0</td>\n",
              "      <td>0</td>\n",
              "      <td>0</td>\n",
              "      <td>0</td>\n",
              "      <td>0</td>\n",
              "      <td>0</td>\n",
              "      <td>0</td>\n",
              "      <td>0</td>\n",
              "      <td>0</td>\n",
              "      <td>0</td>\n",
              "      <td>0</td>\n",
              "      <td>0</td>\n",
              "      <td>0</td>\n",
              "      <td>0</td>\n",
              "      <td>0</td>\n",
              "    </tr>\n",
              "    <tr>\n",
              "      <th>2110</th>\n",
              "      <td>0</td>\n",
              "      <td>0</td>\n",
              "      <td>0</td>\n",
              "      <td>0</td>\n",
              "      <td>0</td>\n",
              "      <td>0</td>\n",
              "      <td>0</td>\n",
              "      <td>0</td>\n",
              "      <td>0</td>\n",
              "      <td>0</td>\n",
              "      <td>0</td>\n",
              "      <td>0</td>\n",
              "      <td>0</td>\n",
              "      <td>0</td>\n",
              "      <td>0</td>\n",
              "      <td>0</td>\n",
              "      <td>0</td>\n",
              "      <td>0</td>\n",
              "      <td>0</td>\n",
              "      <td>0</td>\n",
              "      <td>0</td>\n",
              "      <td>0</td>\n",
              "      <td>0</td>\n",
              "      <td>0</td>\n",
              "      <td>0</td>\n",
              "      <td>0</td>\n",
              "      <td>0</td>\n",
              "      <td>0</td>\n",
              "      <td>0</td>\n",
              "      <td>0</td>\n",
              "      <td>0</td>\n",
              "      <td>0</td>\n",
              "      <td>0</td>\n",
              "      <td>0</td>\n",
              "      <td>0</td>\n",
              "      <td>0</td>\n",
              "      <td>0</td>\n",
              "      <td>0</td>\n",
              "      <td>0</td>\n",
              "      <td>0</td>\n",
              "      <td>...</td>\n",
              "      <td>0</td>\n",
              "      <td>0</td>\n",
              "      <td>0</td>\n",
              "      <td>0</td>\n",
              "      <td>0</td>\n",
              "      <td>0</td>\n",
              "      <td>0</td>\n",
              "      <td>0</td>\n",
              "      <td>0</td>\n",
              "      <td>0</td>\n",
              "      <td>0</td>\n",
              "      <td>0</td>\n",
              "      <td>0</td>\n",
              "      <td>0</td>\n",
              "      <td>0</td>\n",
              "      <td>0</td>\n",
              "      <td>0</td>\n",
              "      <td>0</td>\n",
              "      <td>0</td>\n",
              "      <td>0</td>\n",
              "      <td>0</td>\n",
              "      <td>0</td>\n",
              "      <td>0</td>\n",
              "      <td>0</td>\n",
              "      <td>0</td>\n",
              "      <td>0</td>\n",
              "      <td>0</td>\n",
              "      <td>0</td>\n",
              "      <td>0</td>\n",
              "      <td>0</td>\n",
              "      <td>0</td>\n",
              "      <td>0</td>\n",
              "      <td>0</td>\n",
              "      <td>0</td>\n",
              "      <td>0</td>\n",
              "      <td>0</td>\n",
              "      <td>0</td>\n",
              "      <td>0</td>\n",
              "      <td>0</td>\n",
              "      <td>0</td>\n",
              "    </tr>\n",
              "    <tr>\n",
              "      <th>2276</th>\n",
              "      <td>0</td>\n",
              "      <td>0</td>\n",
              "      <td>0</td>\n",
              "      <td>0</td>\n",
              "      <td>0</td>\n",
              "      <td>0</td>\n",
              "      <td>0</td>\n",
              "      <td>0</td>\n",
              "      <td>0</td>\n",
              "      <td>0</td>\n",
              "      <td>0</td>\n",
              "      <td>0</td>\n",
              "      <td>0</td>\n",
              "      <td>0</td>\n",
              "      <td>0</td>\n",
              "      <td>0</td>\n",
              "      <td>0</td>\n",
              "      <td>0</td>\n",
              "      <td>0</td>\n",
              "      <td>0</td>\n",
              "      <td>0</td>\n",
              "      <td>0</td>\n",
              "      <td>0</td>\n",
              "      <td>0</td>\n",
              "      <td>0</td>\n",
              "      <td>0</td>\n",
              "      <td>0</td>\n",
              "      <td>0</td>\n",
              "      <td>0</td>\n",
              "      <td>0</td>\n",
              "      <td>0</td>\n",
              "      <td>0</td>\n",
              "      <td>0</td>\n",
              "      <td>0</td>\n",
              "      <td>0</td>\n",
              "      <td>0</td>\n",
              "      <td>0</td>\n",
              "      <td>0</td>\n",
              "      <td>0</td>\n",
              "      <td>0</td>\n",
              "      <td>...</td>\n",
              "      <td>0</td>\n",
              "      <td>0</td>\n",
              "      <td>0</td>\n",
              "      <td>0</td>\n",
              "      <td>0</td>\n",
              "      <td>0</td>\n",
              "      <td>0</td>\n",
              "      <td>0</td>\n",
              "      <td>0</td>\n",
              "      <td>0</td>\n",
              "      <td>0</td>\n",
              "      <td>0</td>\n",
              "      <td>0</td>\n",
              "      <td>0</td>\n",
              "      <td>0</td>\n",
              "      <td>0</td>\n",
              "      <td>0</td>\n",
              "      <td>0</td>\n",
              "      <td>0</td>\n",
              "      <td>0</td>\n",
              "      <td>0</td>\n",
              "      <td>0</td>\n",
              "      <td>0</td>\n",
              "      <td>0</td>\n",
              "      <td>0</td>\n",
              "      <td>0</td>\n",
              "      <td>0</td>\n",
              "      <td>0</td>\n",
              "      <td>0</td>\n",
              "      <td>0</td>\n",
              "      <td>0</td>\n",
              "      <td>0</td>\n",
              "      <td>0</td>\n",
              "      <td>0</td>\n",
              "      <td>0</td>\n",
              "      <td>0</td>\n",
              "      <td>0</td>\n",
              "      <td>0</td>\n",
              "      <td>0</td>\n",
              "      <td>0</td>\n",
              "    </tr>\n",
              "    <tr>\n",
              "      <th>4017</th>\n",
              "      <td>0</td>\n",
              "      <td>0</td>\n",
              "      <td>0</td>\n",
              "      <td>0</td>\n",
              "      <td>0</td>\n",
              "      <td>0</td>\n",
              "      <td>0</td>\n",
              "      <td>0</td>\n",
              "      <td>0</td>\n",
              "      <td>0</td>\n",
              "      <td>0</td>\n",
              "      <td>0</td>\n",
              "      <td>0</td>\n",
              "      <td>0</td>\n",
              "      <td>0</td>\n",
              "      <td>0</td>\n",
              "      <td>0</td>\n",
              "      <td>0</td>\n",
              "      <td>0</td>\n",
              "      <td>0</td>\n",
              "      <td>0</td>\n",
              "      <td>0</td>\n",
              "      <td>0</td>\n",
              "      <td>0</td>\n",
              "      <td>0</td>\n",
              "      <td>0</td>\n",
              "      <td>0</td>\n",
              "      <td>0</td>\n",
              "      <td>0</td>\n",
              "      <td>0</td>\n",
              "      <td>0</td>\n",
              "      <td>0</td>\n",
              "      <td>0</td>\n",
              "      <td>0</td>\n",
              "      <td>0</td>\n",
              "      <td>0</td>\n",
              "      <td>0</td>\n",
              "      <td>0</td>\n",
              "      <td>0</td>\n",
              "      <td>0</td>\n",
              "      <td>...</td>\n",
              "      <td>0</td>\n",
              "      <td>0</td>\n",
              "      <td>0</td>\n",
              "      <td>0</td>\n",
              "      <td>0</td>\n",
              "      <td>0</td>\n",
              "      <td>0</td>\n",
              "      <td>0</td>\n",
              "      <td>0</td>\n",
              "      <td>0</td>\n",
              "      <td>0</td>\n",
              "      <td>0</td>\n",
              "      <td>0</td>\n",
              "      <td>0</td>\n",
              "      <td>0</td>\n",
              "      <td>0</td>\n",
              "      <td>0</td>\n",
              "      <td>0</td>\n",
              "      <td>0</td>\n",
              "      <td>0</td>\n",
              "      <td>0</td>\n",
              "      <td>0</td>\n",
              "      <td>0</td>\n",
              "      <td>0</td>\n",
              "      <td>0</td>\n",
              "      <td>0</td>\n",
              "      <td>0</td>\n",
              "      <td>0</td>\n",
              "      <td>0</td>\n",
              "      <td>0</td>\n",
              "      <td>0</td>\n",
              "      <td>0</td>\n",
              "      <td>0</td>\n",
              "      <td>0</td>\n",
              "      <td>0</td>\n",
              "      <td>0</td>\n",
              "      <td>0</td>\n",
              "      <td>0</td>\n",
              "      <td>0</td>\n",
              "      <td>0</td>\n",
              "    </tr>\n",
              "    <tr>\n",
              "      <th>4385</th>\n",
              "      <td>0</td>\n",
              "      <td>0</td>\n",
              "      <td>0</td>\n",
              "      <td>0</td>\n",
              "      <td>0</td>\n",
              "      <td>0</td>\n",
              "      <td>0</td>\n",
              "      <td>0</td>\n",
              "      <td>0</td>\n",
              "      <td>0</td>\n",
              "      <td>0</td>\n",
              "      <td>0</td>\n",
              "      <td>0</td>\n",
              "      <td>0</td>\n",
              "      <td>0</td>\n",
              "      <td>0</td>\n",
              "      <td>0</td>\n",
              "      <td>0</td>\n",
              "      <td>0</td>\n",
              "      <td>0</td>\n",
              "      <td>0</td>\n",
              "      <td>0</td>\n",
              "      <td>0</td>\n",
              "      <td>0</td>\n",
              "      <td>0</td>\n",
              "      <td>0</td>\n",
              "      <td>0</td>\n",
              "      <td>0</td>\n",
              "      <td>0</td>\n",
              "      <td>0</td>\n",
              "      <td>0</td>\n",
              "      <td>0</td>\n",
              "      <td>0</td>\n",
              "      <td>0</td>\n",
              "      <td>0</td>\n",
              "      <td>0</td>\n",
              "      <td>0</td>\n",
              "      <td>0</td>\n",
              "      <td>0</td>\n",
              "      <td>0</td>\n",
              "      <td>...</td>\n",
              "      <td>0</td>\n",
              "      <td>0</td>\n",
              "      <td>0</td>\n",
              "      <td>0</td>\n",
              "      <td>0</td>\n",
              "      <td>0</td>\n",
              "      <td>0</td>\n",
              "      <td>0</td>\n",
              "      <td>0</td>\n",
              "      <td>0</td>\n",
              "      <td>0</td>\n",
              "      <td>0</td>\n",
              "      <td>0</td>\n",
              "      <td>0</td>\n",
              "      <td>0</td>\n",
              "      <td>0</td>\n",
              "      <td>0</td>\n",
              "      <td>0</td>\n",
              "      <td>0</td>\n",
              "      <td>0</td>\n",
              "      <td>0</td>\n",
              "      <td>0</td>\n",
              "      <td>0</td>\n",
              "      <td>0</td>\n",
              "      <td>0</td>\n",
              "      <td>0</td>\n",
              "      <td>0</td>\n",
              "      <td>0</td>\n",
              "      <td>0</td>\n",
              "      <td>0</td>\n",
              "      <td>0</td>\n",
              "      <td>0</td>\n",
              "      <td>0</td>\n",
              "      <td>0</td>\n",
              "      <td>0</td>\n",
              "      <td>0</td>\n",
              "      <td>0</td>\n",
              "      <td>0</td>\n",
              "      <td>0</td>\n",
              "      <td>0</td>\n",
              "    </tr>\n",
              "  </tbody>\n",
              "</table>\n",
              "<p>5 rows × 66574 columns</p>\n",
              "</div>"
            ],
            "text/plain": [
              "ISBN     0000913154  0001046438  000104687X  ...  B00013AX9E  B0001I1KOG  B000234N3A\n",
              "User-ID                                      ...                                    \n",
              "2033     0           0           0           ...  0           0           0         \n",
              "2110     0           0           0           ...  0           0           0         \n",
              "2276     0           0           0           ...  0           0           0         \n",
              "4017     0           0           0           ...  0           0           0         \n",
              "4385     0           0           0           ...  0           0           0         \n",
              "\n",
              "[5 rows x 66574 columns]"
            ]
          },
          "metadata": {
            "tags": []
          },
          "execution_count": 164
        }
      ]
    },
    {
      "cell_type": "code",
      "metadata": {
        "colab": {
          "base_uri": "https://localhost:8080/"
        },
        "id": "6XliuzB6vjaK",
        "outputId": "64309083-177e-40dc-9088-7b1bcd96f5f6"
      },
      "source": [
        "#rechecking the sparsity\n",
        "sparsity=1.0-len(ratings_explicit)/float(users_exp_ratings.shape[0]*n_books)\n",
        "print('The sparsity level of Book Crossing dataset is ' +  str(sparsity*100) + ' %')"
      ],
      "execution_count": 165,
      "outputs": [
        {
          "output_type": "stream",
          "text": [
            "The sparsity level of Book Crossing dataset is 99.99772184106935 %\n"
          ],
          "name": "stdout"
        }
      ]
    },
    {
      "cell_type": "markdown",
      "metadata": {
        "id": "BhBzjSjmvmlP"
      },
      "source": [
        "\n",
        "# Training our recommendation system"
      ]
    },
    {
      "cell_type": "code",
      "metadata": {
        "id": "XCx6FVjJvozZ"
      },
      "source": [
        "#setting global variables\n",
        "global metric,k\n",
        "k=10\n",
        "metric='cosine'"
      ],
      "execution_count": 166,
      "outputs": []
    },
    {
      "cell_type": "markdown",
      "metadata": {
        "id": "y-enAimnvvHT"
      },
      "source": [
        "\n",
        "# User-based Recommendation System"
      ]
    },
    {
      "cell_type": "code",
      "metadata": {
        "id": "PepPySmwvsq-"
      },
      "source": [
        "#This function finds k similar users given the user_id and ratings matrix \n",
        "#These similarities are same as obtained via using pairwise_distances\n",
        "def findksimilarusers(user_id, ratings, metric = metric, k=k):\n",
        "    similarities=[]\n",
        "    indices=[]\n",
        "    model_knn = NearestNeighbors(metric = metric, algorithm = 'brute') \n",
        "    model_knn.fit(ratings)\n",
        "    loc = ratings.index.get_loc(user_id)\n",
        "    distances, indices = model_knn.kneighbors(ratings.iloc[loc, :].values.reshape(1, -1), n_neighbors = k+1)\n",
        "    similarities = 1-distances.flatten()\n",
        "            \n",
        "    return similarities,indices"
      ],
      "execution_count": 167,
      "outputs": []
    },
    {
      "cell_type": "code",
      "metadata": {
        "id": "_80J36VkvzPD"
      },
      "source": [
        "#This function predicts rating for specified user-item combination based on user-based approach\n",
        "def predict_userbased(user_id, item_id, ratings, metric = metric, k=k):\n",
        "    prediction=0\n",
        "    user_loc = ratings.index.get_loc(user_id)\n",
        "    item_loc = ratings.columns.get_loc(item_id)\n",
        "    similarities, indices=findksimilarusers(user_id, ratings,metric, k) #similar users based on cosine similarity\n",
        "    mean_rating = ratings.iloc[user_loc,:].mean() #to adjust for zero based indexing\n",
        "    sum_wt = np.sum(similarities)-1\n",
        "    product=1\n",
        "    wtd_sum = 0 \n",
        "    \n",
        "    for i in range(0, len(indices.flatten())):\n",
        "        if indices.flatten()[i] == user_loc:\n",
        "            continue;\n",
        "        else: \n",
        "            ratings_diff = ratings.iloc[indices.flatten()[i],item_loc]-np.mean(ratings.iloc[indices.flatten()[i],:])\n",
        "            product = ratings_diff * (similarities[i])\n",
        "            wtd_sum = wtd_sum + product\n",
        "    \n",
        "    #in case of very sparse datasets, using correlation metric for collaborative based approach may give negative ratings\n",
        "    #which are handled here as below\n",
        "    if prediction <= 0:\n",
        "        prediction = 1   \n",
        "    elif prediction >10:\n",
        "        prediction = 10\n",
        "    \n",
        "    prediction = int(round(mean_rating + (wtd_sum/sum_wt)))\n",
        "    print('\\nPredicted rating for user {0} -> item {1}: {2}'.format(user_id,item_id,prediction))\n",
        "\n",
        "    return prediction"
      ],
      "execution_count": 168,
      "outputs": []
    },
    {
      "cell_type": "code",
      "metadata": {
        "colab": {
          "base_uri": "https://localhost:8080/"
        },
        "id": "D5AvGRS1v7qx",
        "outputId": "be3b8c69-a09c-4905-f820-9293daed6992"
      },
      "source": [
        "predict_userbased(11676,'0001056107',ratings_matrix);"
      ],
      "execution_count": 169,
      "outputs": [
        {
          "output_type": "stream",
          "text": [
            "\n",
            "Predicted rating for user 11676 -> item 0001056107: 2\n"
          ],
          "name": "stdout"
        }
      ]
    },
    {
      "cell_type": "markdown",
      "metadata": {
        "id": "yESNno3PwaRC"
      },
      "source": [
        "# Item-based Recommendation Systems"
      ]
    },
    {
      "cell_type": "code",
      "metadata": {
        "id": "j7U5tUcawZUh"
      },
      "source": [
        "#This function finds k similar items given the item_id and ratings matrix\n",
        "\n",
        "def findksimilaritems(item_id, ratings, metric=metric, k=k):\n",
        "    similarities=[]\n",
        "    indices=[]\n",
        "    ratings=ratings.T\n",
        "    loc = ratings.index.get_loc(item_id)\n",
        "    model_knn = NearestNeighbors(metric = metric, algorithm = 'brute')\n",
        "    model_knn.fit(ratings)\n",
        "    \n",
        "    distances, indices = model_knn.kneighbors(ratings.iloc[loc, :].values.reshape(1, -1), n_neighbors = k+1)\n",
        "    similarities = 1-distances.flatten()\n",
        "\n",
        "    return similarities,indices"
      ],
      "execution_count": 170,
      "outputs": []
    },
    {
      "cell_type": "code",
      "metadata": {
        "id": "cDTjOPr1whIE"
      },
      "source": [
        "similarities,indices=findksimilaritems('0001056107',ratings_matrix)"
      ],
      "execution_count": 171,
      "outputs": []
    },
    {
      "cell_type": "code",
      "metadata": {
        "id": "f8H_XD7twlgJ"
      },
      "source": [
        "#This function predicts the rating for specified user-item combination based on item-based approach\n",
        "def predict_itembased(user_id, item_id, ratings, metric = metric, k=k):\n",
        "    prediction= wtd_sum =0\n",
        "    user_loc = ratings.index.get_loc(user_id)\n",
        "    item_loc = ratings.columns.get_loc(item_id)\n",
        "    similarities, indices=findksimilaritems(item_id, ratings) #similar users based on correlation coefficients\n",
        "    sum_wt = np.sum(similarities)-1\n",
        "    product=1\n",
        "    for i in range(0, len(indices.flatten())):\n",
        "        if indices.flatten()[i] == item_loc:\n",
        "            continue;\n",
        "        else:\n",
        "            product = ratings.iloc[user_loc,indices.flatten()[i]] * (similarities[i])\n",
        "            wtd_sum = wtd_sum + product                              \n",
        "    prediction = int(round(wtd_sum/sum_wt))\n",
        "    \n",
        "    #in case of very sparse datasets, using correlation metric for collaborative based approach may give negative ratings\n",
        "    #which are handled here as below //code has been validated without the code snippet below, below snippet is to avoid negative\n",
        "    #predictions which might arise in case of very sparse datasets when using correlation metric\n",
        "    if prediction <= 0:\n",
        "        prediction = 1   \n",
        "    elif prediction >10:\n",
        "        prediction = 10\n",
        "\n",
        "    print('\\nPredicted rating for user {0} -> item {1}: {2}'.format(user_id,item_id,prediction))      \n",
        "    \n",
        "    return prediction"
      ],
      "execution_count": 172,
      "outputs": []
    },
    {
      "cell_type": "code",
      "metadata": {
        "colab": {
          "base_uri": "https://localhost:8080/"
        },
        "id": "MG1H1_-Gwr-i",
        "outputId": "bb06d4e3-17f7-4525-dfc8-fbc5f587dc45"
      },
      "source": [
        "prediction = predict_itembased(11676,'0001056107',ratings_matrix)"
      ],
      "execution_count": 173,
      "outputs": [
        {
          "output_type": "stream",
          "text": [
            "\n",
            "Predicted rating for user 11676 -> item 0001056107: 1\n"
          ],
          "name": "stdout"
        }
      ]
    },
    {
      "cell_type": "code",
      "metadata": {
        "id": "102uIyoTwtle"
      },
      "source": [
        "from contextlib import contextmanager"
      ],
      "execution_count": 174,
      "outputs": []
    },
    {
      "cell_type": "code",
      "metadata": {
        "id": "jgDBaDJBxVQt"
      },
      "source": [
        "@contextmanager\n",
        "def suppress_stdout():\n",
        "    with open(os.devnull, \"w\") as devnull:\n",
        "        old_stdout = sys.stdout\n",
        "        sys.stdout = devnull\n",
        "        try:  \n",
        "            yield\n",
        "        finally:\n",
        "            sys.stdout = old_stdout"
      ],
      "execution_count": 175,
      "outputs": []
    },
    {
      "cell_type": "code",
      "metadata": {
        "id": "k4fU0xqCxZld"
      },
      "source": [
        "#This function utilizes above functions to recommend items for item/user based approach and cosine/correlation. \n",
        "#Recommendations are made if the predicted rating for an item is >= to 6,and the items have not been rated already\n",
        "def recommendItem(user_id, ratings, metric=metric):    \n",
        "    if (user_id not in ratings.index.values) or type(user_id) is not int:\n",
        "        print(\"User id should be a valid integer from this list :\\n\\n {} \".format(re.sub('[\\[\\]]', '', np.array_str(ratings_matrix.index.values))))\n",
        "    else:    \n",
        "        ids = ['Item-based (correlation)','Item-based (cosine)','User-based (correlation)','User-based (cosine)']\n",
        "        select = widgets.Dropdown(options=ids, value=ids[0],description='Select approach', width='1000px')\n",
        "        def on_change(change):\n",
        "            clear_output(wait=True)\n",
        "            prediction = []            \n",
        "            if change['type'] == 'change' and change['name'] == 'value':            \n",
        "                if (select.value == 'Item-based (correlation)') | (select.value == 'User-based (correlation)') :\n",
        "                    metric = 'correlation'\n",
        "                else:                       \n",
        "                    metric = 'cosine'   \n",
        "                with suppress_stdout():\n",
        "                    if (select.value == 'Item-based (correlation)') | (select.value == 'Item-based (cosine)'):\n",
        "                        for i in range(ratings.shape[1]):\n",
        "                            if (ratings[str(ratings.columns[i])][user_id] !=0): #not rated already\n",
        "                                prediction.append(predict_itembased(user_id, str(ratings.columns[i]) ,ratings, metric))\n",
        "                            else:                    \n",
        "                                prediction.append(-1) #for already rated items\n",
        "                    else:\n",
        "                        for i in range(ratings.shape[1]):\n",
        "                            if (ratings[str(ratings.columns[i])][user_id] !=0): #not rated already\n",
        "                                prediction.append(predict_userbased(user_id, str(ratings.columns[i]) ,ratings, metric))\n",
        "                            else:                    \n",
        "                                prediction.append(-1) #for already rated items\n",
        "                prediction = pd.Series(prediction)\n",
        "                prediction = prediction.sort_values(ascending=False)\n",
        "                recommended = prediction[:10]\n",
        "                print(\"As per {0} approach....Following books are recommended...\".format(select.value))\n",
        "                for i in range(len(recommended)):\n",
        "                     print(\"{0}. {1}\".format(i+1,books.bookTitle[recommended.index[i]].encode('utf-8')))                        \n",
        "        select.observe(on_change)\n",
        "        display(select)"
      ],
      "execution_count": 176,
      "outputs": []
    },
    {
      "cell_type": "code",
      "metadata": {
        "colab": {
          "base_uri": "https://localhost:8080/"
        },
        "id": "IPSK8zRdxg3w",
        "outputId": "5e0c8495-fb17-4bea-9e68-eb683b8dbd60"
      },
      "source": [
        "#checking for incorrect entries\n",
        "recommendItem(999999,ratings_matrix)"
      ],
      "execution_count": 177,
      "outputs": [
        {
          "output_type": "stream",
          "text": [
            "User id should be a valid integer from this list :\n",
            "\n",
            "   2033   2110   2276   4017   4385   5582   6242   6251   6543   6575\n",
            "   7286   7346   8067   8245   8681   8890  10560  11676  11993  12538\n",
            "  12824  12982  13552  13850  14422  15408  15418  16634  16795  16966\n",
            "  17950  19085  21014  23768  23872  23902  25409  25601  25981  26535\n",
            "  26544  26583  28591  28634  29259  30276  30511  30711  30735  30810\n",
            "  31315  31556  31826  32773  33145  35433  35836  35857  35859  36299\n",
            "  36554  36606  36609  36836  36907  37644  37712  37950  38023  38273\n",
            "  38281  39281  39467  40889  40943  43246  43910  46398  47316  48025\n",
            "  48494  49144  49889  51883  52199  52350  52584  52614  52917  53220\n",
            "  55187  55490  55492  56271  56399  56447  56554  56959  59172  60244\n",
            "  60337  60707  63714  63956  65258  66942  67840  68555  69078  69389\n",
            "  69697  70415  70594  70666  72352  73681  75591  75819  76151  76223\n",
            "  76499  76626  78553  78783  78834  78973  79441  81492  81560  83287\n",
            "  83637  83671  85526  85656  86189  86947  87141  87555  88283  88677\n",
            "  88693  88733  89602  91113  92652  92810  93047  93363  93629  94242\n",
            "  94347  94853  94951  95010  95359  95902  95932  96448  97754  97874\n",
            "  98391  98758 100459 100906 101209 101606 101851 102359 102647 102702\n",
            " 102967 104399 104636 105028 105517 105979 106007 107784 107951 109574\n",
            " 109901 109955 110483 110912 110934 110973 112001 113270 113519 114368\n",
            " 114868 114988 115002 115003 116599 117384 120565 122429 122793 123094\n",
            " 123608 123883 123981 125519 125774 126492 126736 127200 127359 128835\n",
            " 129074 129716 129851 130554 130571 132492 132836 133747 134434 135149\n",
            " 135265 136010 136139 136348 136382 138578 138844 140000 140358 141902\n",
            " 142524 143175 143253 143415 145449 146113 146348 147847 148199 148258\n",
            " 148744 148966 149907 149908 150979 153662 156150 156269 156300 156467\n",
            " 157247 157273 158226 158295 158433 159506 160295 162052 162639 162738\n",
            " 163759 163761 163804 163973 164096 164323 164533 164828 164905 165308\n",
            " 165319 165758 166123 166596 168047 168245 169682 170513 170634 171118\n",
            " 172030 172742 172888 173291 173415 174304 174892 177072 177432 177458\n",
            " 178522 179718 179978 180378 180651 181176 182085 182086 182993 183958\n",
            " 183995 184299 184532 185233 185384 187145 187256 187517 189139 189334\n",
            " 189835 189973 190708 190925 193458 193560 193898 194600 196077 196160\n",
            " 196502 197659 199416 200226 201290 203240 204864 205735 205943 206534\n",
            " 207782 208406 208671 209516 210485 211426 211919 212965 214786 216012\n",
            " 216444 216683 217106 217318 217740 218552 218608 219546 219683 222204\n",
            " 222296 223087 223501 224349 224525 224646 224764 225087 225199 225232\n",
            " 225595 225763 226965 227250 227447 227520 227705 229011 229329 229551\n",
            " 229741 230522 231210 232131 232945 233911 234359 234828 235105 235282\n",
            " 235935 236058 236283 236340 236757 236948 239584 239594 240144 240403\n",
            " 240543 240567 240568 241198 241666 241980 242006 242083 242409 242465\n",
            " 244627 244685 245410 245827 246311 247429 247447 248718 249894 250405\n",
            " 250709 251394 251843 251844 252695 252820 254206 254465 254899 255489\n",
            " 257204 258152 258185 258534 261105 261829 262998 264031 264082 264321\n",
            " 264525 265115 265313 265889 266056 266226 268110 268300 268932 269566\n",
            " 270713 271448 271705 273113 274061 274301 275970 277427 278418 \n"
          ],
          "name": "stdout"
        }
      ]
    },
    {
      "cell_type": "code",
      "metadata": {
        "colab": {
          "base_uri": "https://localhost:8080/",
          "height": 202,
          "referenced_widgets": [
            "f437af41611a44ffa9597b9aaba96128",
            "4862bf4731fd403db1da13ee40c9abd9",
            "e7d60c48a4514e2b9815976649a22ce7"
          ]
        },
        "id": "1JmVzNkJxlrG",
        "outputId": "10f3ec3e-f1a0-421b-e6e0-454a609705cb"
      },
      "source": [
        "recommendItem(4385, ratings_matrix)"
      ],
      "execution_count": 180,
      "outputs": [
        {
          "output_type": "stream",
          "text": [
            "As per User-based (correlation) approach....Following books are recommended...\n",
            "1. b'The Gift'\n",
            "2. b\"A Close Run Thing : A Novel of Wellington's Army of 1815\"\n",
            "3. b'The Romantic: A Novel'\n",
            "4. b'Mazurka for Two Dead Men'\n",
            "5. b\"The Titanic Conspiracy: Cover-Ups and Mysteries of the World's Most Famous Sea Disaster\"\n",
            "6. b'And Never Let Her Go : Thomas Capano: The Deadly Seducer'\n",
            "7. b'Chop Wood, Carry Water: A Guide to Finding Spiritual Fulfillment in Everyday Life'\n",
            "8. b'WHO NEEDS GOD'\n",
            "9. b'Lords of the White Castle'\n",
            "10. b\"Prince Charming Isn't Coming: How Women Get Smart About Money\"\n"
          ],
          "name": "stdout"
        }
      ]
    },
    {
      "cell_type": "code",
      "metadata": {
        "colab": {
          "base_uri": "https://localhost:8080/",
          "height": 202,
          "referenced_widgets": [
            "c42d5f95a52c4332b638142cbc36e959",
            "747c9b7563c54e6d8eaafbadcdcee98c",
            "55751e8fdc974e14898203ad179a06f9"
          ]
        },
        "id": "nF0E11YHzTaN",
        "outputId": "ffb5042b-cead-443c-8aa6-4b92a38ba51f"
      },
      "source": [
        "recommendItem(4385, ratings_matrix)\n"
      ],
      "execution_count": 181,
      "outputs": [
        {
          "output_type": "stream",
          "text": [
            "As per User-based (cosine) approach....Following books are recommended...\n",
            "1. b'The Gift'\n",
            "2. b\"A Close Run Thing : A Novel of Wellington's Army of 1815\"\n",
            "3. b'Mazurka for Two Dead Men'\n",
            "4. b'The Romantic: A Novel'\n",
            "5. b'And Never Let Her Go : Thomas Capano: The Deadly Seducer'\n",
            "6. b'Outerbridge Reach'\n",
            "7. b\"The Titanic Conspiracy: Cover-Ups and Mysteries of the World's Most Famous Sea Disaster\"\n",
            "8. b'WHO NEEDS GOD'\n",
            "9. b'Chop Wood, Carry Water: A Guide to Finding Spiritual Fulfillment in Everyday Life'\n",
            "10. b'Under the Volcano'\n"
          ],
          "name": "stdout"
        }
      ]
    },
    {
      "cell_type": "code",
      "metadata": {
        "colab": {
          "base_uri": "https://localhost:8080/",
          "height": 202,
          "referenced_widgets": [
            "36f5c328a186450e972206b65416d479",
            "f8fd4cc464c243e7af02ec75209c77c5",
            "03007d7369534686b821aa94c102e100"
          ]
        },
        "id": "MKJlyiWN0Ddt",
        "outputId": "5860c1b2-ffe9-4e05-a071-ec669e2d8eab"
      },
      "source": [
        "recommendItem(4385, ratings_matrix)"
      ],
      "execution_count": 182,
      "outputs": [
        {
          "output_type": "stream",
          "text": [
            "As per Item-based (correlation) approach....Following books are recommended...\n",
            "1. b'My Wicked Wicked Ways'\n",
            "2. b'Fair Peril'\n",
            "3. b'Wolfpointe'\n",
            "4. b'A Nest of Ninnies'\n",
            "5. b'A Bitter Legacy'\n",
            "6. b'A Hymn Before Battle'\n",
            "7. b'Thomas the Rhymer'\n",
            "8. b'Gatherer of Clouds (Initiate Brother Duology)'\n",
            "9. b'Wege zum Ruhm: 13 Hilfestellungen f\\xc3\\x83\\xc2\\xbcr junge K\\xc3\\x83\\xc2\\xbcnstler und 1 Warnung'\n",
            "10. b\"Love In Bloom's\"\n"
          ],
          "name": "stdout"
        }
      ]
    },
    {
      "cell_type": "code",
      "metadata": {
        "colab": {
          "base_uri": "https://localhost:8080/",
          "height": 202,
          "referenced_widgets": [
            "997d7a74ad56412e8230abc87afe0c03",
            "e8b372ac3fde4b629dbcc91efbb1328a",
            "88e7a7a8c4694b6296b6742567841b95"
          ]
        },
        "id": "O4CydPS00sKx",
        "outputId": "b903945f-7ef8-425c-a750-fdd747dec44b"
      },
      "source": [
        "recommendItem(4385, ratings_matrix)"
      ],
      "execution_count": 183,
      "outputs": [
        {
          "output_type": "stream",
          "text": [
            "As per Item-based (cosine) approach....Following books are recommended...\n",
            "1. b'My Wicked Wicked Ways'\n",
            "2. b'Fair Peril'\n",
            "3. b'Wolfpointe'\n",
            "4. b'A Nest of Ninnies'\n",
            "5. b'A Bitter Legacy'\n",
            "6. b'A Hymn Before Battle'\n",
            "7. b'Thomas the Rhymer'\n",
            "8. b'Gatherer of Clouds (Initiate Brother Duology)'\n",
            "9. b'Wege zum Ruhm: 13 Hilfestellungen f\\xc3\\x83\\xc2\\xbcr junge K\\xc3\\x83\\xc2\\xbcnstler und 1 Warnung'\n",
            "10. b\"Love In Bloom's\"\n"
          ],
          "name": "stdout"
        }
      ]
    }
  ]
}